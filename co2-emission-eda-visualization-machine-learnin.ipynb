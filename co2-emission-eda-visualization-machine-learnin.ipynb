{
 "cells": [
  {
   "cell_type": "markdown",
   "metadata": {
    "papermill": {
     "duration": 0.080803,
     "end_time": "2021-01-24T12:33:20.308441",
     "exception": false,
     "start_time": "2021-01-24T12:33:20.227638",
     "status": "completed"
    },
    "tags": []
   },
   "source": [
    "# <a id='1'> 1. Importing Libraries </a>"
   ]
  },
  {
   "cell_type": "code",
   "execution_count": 1,
   "metadata": {
    "execution": {
     "iopub.execute_input": "2021-01-24T12:33:20.541510Z",
     "iopub.status.busy": "2021-01-24T12:33:20.540818Z",
     "iopub.status.idle": "2021-01-24T12:33:22.928469Z",
     "shell.execute_reply": "2021-01-24T12:33:22.927612Z"
    },
    "papermill": {
     "duration": 2.508262,
     "end_time": "2021-01-24T12:33:22.928628",
     "exception": false,
     "start_time": "2021-01-24T12:33:20.420366",
     "status": "completed"
    },
    "tags": []
   },
   "outputs": [
    {
     "name": "stderr",
     "output_type": "stream",
     "text": [
      "C:\\Users\\Dell\\anaconda3\\lib\\site-packages\\scipy\\__init__.py:155: UserWarning: A NumPy version >=1.18.5 and <1.25.0 is required for this version of SciPy (detected version 1.26.2\n",
      "  warnings.warn(f\"A NumPy version >={np_minversion} and <{np_maxversion}\"\n"
     ]
    }
   ],
   "source": [
    "import numpy as np \n",
    "import pandas as pd\n",
    "\n",
    "import seaborn as sns \n",
    "import matplotlib.pyplot as plt\n",
    "\n",
    "import warnings\n",
    "warnings.filterwarnings(\"ignore\")"
   ]
  },
  {
   "cell_type": "markdown",
   "metadata": {
    "papermill": {
     "duration": 0.091751,
     "end_time": "2021-01-24T12:33:23.130142",
     "exception": false,
     "start_time": "2021-01-24T12:33:23.038391",
     "status": "completed"
    },
    "tags": []
   },
   "source": [
    " # <a id='2'> 2. Data Set</a>"
   ]
  },
  {
   "cell_type": "markdown",
   "metadata": {
    "papermill": {
     "duration": 0.110521,
     "end_time": "2021-01-24T12:33:23.319031",
     "exception": false,
     "start_time": "2021-01-24T12:33:23.208510",
     "status": "completed"
    },
    "tags": []
   },
   "source": [
    "\n",
    "This dataset captures the details of how CO2 emissions by a vehicle can vary with the different features. The dataset has been taken from Canada Government official open data website. This is a compiled version. This contains data over a period of 7 years.\n",
    "There are total 7385 rows and 12 columns. There are few abbreviations that has been used to describe the features. I am listing them out here. The same can be found in the Data Description sheet.\n",
    "\n",
    "Model \n",
    "4WD/4X4 = Four-wheel drive <br>\n",
    "AWD = All-wheel drive <br>\n",
    "FFV = Flexible-fuel vehicle <br>\n",
    "SWB = Short wheelbase <br> \n",
    "LWB = Long wheelbase <br>\n",
    "EWB = Extended wheelbase  <br>\n",
    "\n",
    "Transmission\n",
    "A = Automatic <br>\n",
    "AM = Automated manual <br>\n",
    "AS = Automatic with select shift <br>\n",
    "AV = Continuously variable <br>\n",
    "M = Manual<br>\n",
    "3 - 10 = Number of gears <br>\n",
    "\n",
    "Fuel type\n",
    "X = Regular gasoline <br>\n",
    "Z = Premium gasoline <br>\n",
    "D = Diesel <br>\n",
    "E = Ethanol (E85) <br>\n",
    "N = Natural gas <br>\n",
    "\n",
    "Make= Company of the vehicle <br>\n",
    "Model= Car model <br>\n",
    "Vehicle Class= Class of vehicle depending on their utility, capacity and weight <br>\n",
    "Engine Size = Size of engine used in Litre <br>\n",
    "Cylinders= Number of cylinders <br>\n",
    "Transmission = Transmission type with number of gears <br>\n",
    "Fuel type =Type of Fuel used <br>\n",
    "Fuel Consumption City=Fuel consumption in city roads (L/100 km) <br>\n",
    "Fuel Consumption Hwy=Fuel consumption in Hwy roads (L/100 km) <br>\n",
    "Fuel Consumption Comb=The combined fuel consumption (55% city, 45% highway) is shown in L/100 km <br>\n",
    "Fuel Consumption Comb mpg =The combined fuel consumption in both city and highway is shown in mile per gallon(mpg)<br> "
   ]
  },
  {
   "cell_type": "code",
   "execution_count": 2,
   "metadata": {
    "_cell_guid": "79c7e3d0-c299-4dcb-8224-4455121ee9b0",
    "_uuid": "d629ff2d2480ee46fbb7e2d37f6b5fab8052498a",
    "execution": {
     "iopub.execute_input": "2021-01-24T12:33:23.549048Z",
     "iopub.status.busy": "2021-01-24T12:33:23.548343Z",
     "iopub.status.idle": "2021-01-24T12:33:23.608080Z",
     "shell.execute_reply": "2021-01-24T12:33:23.608597Z"
    },
    "papermill": {
     "duration": 0.179603,
     "end_time": "2021-01-24T12:33:23.608747",
     "exception": false,
     "start_time": "2021-01-24T12:33:23.429144",
     "status": "completed"
    },
    "tags": []
   },
   "outputs": [
    {
     "data": {
      "text/html": [
       "<div>\n",
       "<style scoped>\n",
       "    .dataframe tbody tr th:only-of-type {\n",
       "        vertical-align: middle;\n",
       "    }\n",
       "\n",
       "    .dataframe tbody tr th {\n",
       "        vertical-align: top;\n",
       "    }\n",
       "\n",
       "    .dataframe thead th {\n",
       "        text-align: right;\n",
       "    }\n",
       "</style>\n",
       "<table border=\"1\" class=\"dataframe\">\n",
       "  <thead>\n",
       "    <tr style=\"text-align: right;\">\n",
       "      <th></th>\n",
       "      <th>Make</th>\n",
       "      <th>Model</th>\n",
       "      <th>Vehicle Class</th>\n",
       "      <th>Engine Size(L)</th>\n",
       "      <th>Cylinders</th>\n",
       "      <th>Transmission</th>\n",
       "      <th>Fuel Type</th>\n",
       "      <th>Fuel Consumption City (L/100 km)</th>\n",
       "      <th>Fuel Consumption Hwy (L/100 km)</th>\n",
       "      <th>Fuel Consumption Comb (L/100 km)</th>\n",
       "      <th>Fuel Consumption Comb (mpg)</th>\n",
       "      <th>CO2 Emissions(g/km)</th>\n",
       "    </tr>\n",
       "  </thead>\n",
       "  <tbody>\n",
       "    <tr>\n",
       "      <th>0</th>\n",
       "      <td>ACURA</td>\n",
       "      <td>ILX</td>\n",
       "      <td>COMPACT</td>\n",
       "      <td>2.0</td>\n",
       "      <td>4</td>\n",
       "      <td>AS5</td>\n",
       "      <td>Z</td>\n",
       "      <td>9.9</td>\n",
       "      <td>6.7</td>\n",
       "      <td>8.5</td>\n",
       "      <td>33</td>\n",
       "      <td>196</td>\n",
       "    </tr>\n",
       "    <tr>\n",
       "      <th>1</th>\n",
       "      <td>ACURA</td>\n",
       "      <td>ILX</td>\n",
       "      <td>COMPACT</td>\n",
       "      <td>2.4</td>\n",
       "      <td>4</td>\n",
       "      <td>M6</td>\n",
       "      <td>Z</td>\n",
       "      <td>11.2</td>\n",
       "      <td>7.7</td>\n",
       "      <td>9.6</td>\n",
       "      <td>29</td>\n",
       "      <td>221</td>\n",
       "    </tr>\n",
       "    <tr>\n",
       "      <th>2</th>\n",
       "      <td>ACURA</td>\n",
       "      <td>ILX HYBRID</td>\n",
       "      <td>COMPACT</td>\n",
       "      <td>1.5</td>\n",
       "      <td>4</td>\n",
       "      <td>AV7</td>\n",
       "      <td>Z</td>\n",
       "      <td>6.0</td>\n",
       "      <td>5.8</td>\n",
       "      <td>5.9</td>\n",
       "      <td>48</td>\n",
       "      <td>136</td>\n",
       "    </tr>\n",
       "    <tr>\n",
       "      <th>3</th>\n",
       "      <td>ACURA</td>\n",
       "      <td>MDX 4WD</td>\n",
       "      <td>SUV - SMALL</td>\n",
       "      <td>3.5</td>\n",
       "      <td>6</td>\n",
       "      <td>AS6</td>\n",
       "      <td>Z</td>\n",
       "      <td>12.7</td>\n",
       "      <td>9.1</td>\n",
       "      <td>11.1</td>\n",
       "      <td>25</td>\n",
       "      <td>255</td>\n",
       "    </tr>\n",
       "    <tr>\n",
       "      <th>4</th>\n",
       "      <td>ACURA</td>\n",
       "      <td>RDX AWD</td>\n",
       "      <td>SUV - SMALL</td>\n",
       "      <td>3.5</td>\n",
       "      <td>6</td>\n",
       "      <td>AS6</td>\n",
       "      <td>Z</td>\n",
       "      <td>12.1</td>\n",
       "      <td>8.7</td>\n",
       "      <td>10.6</td>\n",
       "      <td>27</td>\n",
       "      <td>244</td>\n",
       "    </tr>\n",
       "  </tbody>\n",
       "</table>\n",
       "</div>"
      ],
      "text/plain": [
       "    Make       Model Vehicle Class  Engine Size(L)  Cylinders Transmission  \\\n",
       "0  ACURA         ILX       COMPACT             2.0          4          AS5   \n",
       "1  ACURA         ILX       COMPACT             2.4          4           M6   \n",
       "2  ACURA  ILX HYBRID       COMPACT             1.5          4          AV7   \n",
       "3  ACURA     MDX 4WD   SUV - SMALL             3.5          6          AS6   \n",
       "4  ACURA     RDX AWD   SUV - SMALL             3.5          6          AS6   \n",
       "\n",
       "  Fuel Type  Fuel Consumption City (L/100 km)  \\\n",
       "0         Z                               9.9   \n",
       "1         Z                              11.2   \n",
       "2         Z                               6.0   \n",
       "3         Z                              12.7   \n",
       "4         Z                              12.1   \n",
       "\n",
       "   Fuel Consumption Hwy (L/100 km)  Fuel Consumption Comb (L/100 km)  \\\n",
       "0                              6.7                               8.5   \n",
       "1                              7.7                               9.6   \n",
       "2                              5.8                               5.9   \n",
       "3                              9.1                              11.1   \n",
       "4                              8.7                              10.6   \n",
       "\n",
       "   Fuel Consumption Comb (mpg)  CO2 Emissions(g/km)  \n",
       "0                           33                  196  \n",
       "1                           29                  221  \n",
       "2                           48                  136  \n",
       "3                           25                  255  \n",
       "4                           27                  244  "
      ]
     },
     "execution_count": 2,
     "metadata": {},
     "output_type": "execute_result"
    }
   ],
   "source": [
    "co2_vehicles= pd.read_csv('CO2 Emissions.csv')\n",
    "df=co2_vehicles.copy()\n",
    "df.head(5)"
   ]
  },
  {
   "cell_type": "markdown",
   "metadata": {
    "papermill": {
     "duration": 0.132269,
     "end_time": "2021-01-24T12:33:23.851590",
     "exception": false,
     "start_time": "2021-01-24T12:33:23.719321",
     "status": "completed"
    },
    "tags": []
   },
   "source": [
    " # <a id='3'> 3.Exploratory Data Analysis</a>"
   ]
  },
  {
   "cell_type": "markdown",
   "metadata": {
    "papermill": {
     "duration": 0.079887,
     "end_time": "2021-01-24T12:33:24.059009",
     "exception": false,
     "start_time": "2021-01-24T12:33:23.979122",
     "status": "completed"
    },
    "tags": []
   },
   "source": [
    "* Exploratory Data Analysis refers to the critical process of performing \n",
    "initial investigations on data so as to discover patterns,to spot anomalies, \n",
    "to test hypothesis and to check assumptions with\n",
    "the help of summary statistics and graphical representations. <br>\n",
    "\n",
    "* Your goal during EDA is to develop an understanding of your data. The easiest way to do this is to use questions as tools to guide your investigation. When you ask a question, the question focuses your attention on a specific part of your dataset and helps you decide which graphs, models, or transformations to make.<br>\n",
    "\n",
    "* Generate questions about your data.<br>\n",
    "\n",
    "* Search for answers by visualising, transforming, and modelling your data. <br>\n",
    "\n",
    "* Use what you learn to refine your questions and/or generate new questions. <br>\n",
    "\n",
    "* EDA is not a formal process with a strict set of rules.<br> \n",
    "* More than anything, EDA  is a state of mind.<br> \n",
    "* During the initial phases of EDA you should feel free to investigate every idea that occurs to you.<br> \n",
    "* Some of these ideas will pan out, and some will be dead ends.<br>\n",
    "* As your exploration continues, you will home in on a few particularly productive areas that you’ll eventually write up and communicate to others.<br>\n",
    "\n",
    "* Let's start exploring our data"
   ]
  },
  {
   "cell_type": "code",
   "execution_count": 3,
   "metadata": {
    "execution": {
     "iopub.execute_input": "2021-01-24T12:33:24.275305Z",
     "iopub.status.busy": "2021-01-24T12:33:24.274498Z",
     "iopub.status.idle": "2021-01-24T12:33:24.294640Z",
     "shell.execute_reply": "2021-01-24T12:33:24.293385Z"
    },
    "papermill": {
     "duration": 0.139935,
     "end_time": "2021-01-24T12:33:24.295173",
     "exception": false,
     "start_time": "2021-01-24T12:33:24.155238",
     "status": "completed"
    },
    "tags": []
   },
   "outputs": [
    {
     "name": "stdout",
     "output_type": "stream",
     "text": [
      "<class 'pandas.core.frame.DataFrame'>\n",
      "RangeIndex: 7385 entries, 0 to 7384\n",
      "Data columns (total 12 columns):\n",
      " #   Column                            Non-Null Count  Dtype  \n",
      "---  ------                            --------------  -----  \n",
      " 0   Make                              7385 non-null   object \n",
      " 1   Model                             7385 non-null   object \n",
      " 2   Vehicle Class                     7385 non-null   object \n",
      " 3   Engine Size(L)                    7385 non-null   float64\n",
      " 4   Cylinders                         7385 non-null   int64  \n",
      " 5   Transmission                      7385 non-null   object \n",
      " 6   Fuel Type                         7385 non-null   object \n",
      " 7   Fuel Consumption City (L/100 km)  7385 non-null   float64\n",
      " 8   Fuel Consumption Hwy (L/100 km)   7385 non-null   float64\n",
      " 9   Fuel Consumption Comb (L/100 km)  7385 non-null   float64\n",
      " 10  Fuel Consumption Comb (mpg)       7385 non-null   int64  \n",
      " 11  CO2 Emissions(g/km)               7385 non-null   int64  \n",
      "dtypes: float64(4), int64(3), object(5)\n",
      "memory usage: 692.5+ KB\n"
     ]
    }
   ],
   "source": [
    "df.info()"
   ]
  },
  {
   "cell_type": "markdown",
   "metadata": {
    "papermill": {
     "duration": 0.112093,
     "end_time": "2021-01-24T12:33:24.520509",
     "exception": false,
     "start_time": "2021-01-24T12:33:24.408416",
     "status": "completed"
    },
    "tags": []
   },
   "source": [
    "* Data has only float,object and integer values.<br>\n"
   ]
  },
  {
   "cell_type": "code",
   "execution_count": 4,
   "metadata": {
    "execution": {
     "iopub.execute_input": "2021-01-24T12:33:24.756425Z",
     "iopub.status.busy": "2021-01-24T12:33:24.755400Z",
     "iopub.status.idle": "2021-01-24T12:33:24.762315Z",
     "shell.execute_reply": "2021-01-24T12:33:24.762823Z"
    },
    "papermill": {
     "duration": 0.130853,
     "end_time": "2021-01-24T12:33:24.763012",
     "exception": false,
     "start_time": "2021-01-24T12:33:24.632159",
     "status": "completed"
    },
    "tags": []
   },
   "outputs": [
    {
     "data": {
      "text/plain": [
       "(7385, 12)"
      ]
     },
     "execution_count": 4,
     "metadata": {},
     "output_type": "execute_result"
    }
   ],
   "source": [
    "df.shape"
   ]
  },
  {
   "cell_type": "markdown",
   "metadata": {
    "papermill": {
     "duration": 0.114483,
     "end_time": "2021-01-24T12:33:24.989946",
     "exception": false,
     "start_time": "2021-01-24T12:33:24.875463",
     "status": "completed"
    },
    "tags": []
   },
   "source": [
    "* Dataset comprises of 7385 observations and 12 characteristics.<br>\n"
   ]
  },
  {
   "cell_type": "code",
   "execution_count": 5,
   "metadata": {
    "execution": {
     "iopub.execute_input": "2021-01-24T12:33:25.339345Z",
     "iopub.status.busy": "2021-01-24T12:33:25.338676Z",
     "iopub.status.idle": "2021-01-24T12:33:25.343888Z",
     "shell.execute_reply": "2021-01-24T12:33:25.343285Z"
    },
    "papermill": {
     "duration": 0.18335,
     "end_time": "2021-01-24T12:33:25.344030",
     "exception": false,
     "start_time": "2021-01-24T12:33:25.160680",
     "status": "completed"
    },
    "tags": []
   },
   "outputs": [
    {
     "data": {
      "text/plain": [
       "Index(['Make', 'Model', 'Vehicle Class', 'Engine Size(L)', 'Cylinders',\n",
       "       'Transmission', 'Fuel Type', 'Fuel Consumption City (L/100 km)',\n",
       "       'Fuel Consumption Hwy (L/100 km)', 'Fuel Consumption Comb (L/100 km)',\n",
       "       'Fuel Consumption Comb (mpg)', 'CO2 Emissions(g/km)'],\n",
       "      dtype='object')"
      ]
     },
     "execution_count": 5,
     "metadata": {},
     "output_type": "execute_result"
    }
   ],
   "source": [
    "df.columns"
   ]
  },
  {
   "cell_type": "markdown",
   "metadata": {
    "papermill": {
     "duration": 0.12137,
     "end_time": "2021-01-24T12:33:25.823157",
     "exception": false,
     "start_time": "2021-01-24T12:33:25.701787",
     "status": "completed"
    },
    "tags": []
   },
   "source": [
    "* Variable column has null/missing values. <br>"
   ]
  },
  {
   "cell_type": "code",
   "execution_count": 6,
   "metadata": {
    "execution": {
     "iopub.execute_input": "2021-01-24T12:33:26.047817Z",
     "iopub.status.busy": "2021-01-24T12:33:26.047183Z",
     "iopub.status.idle": "2021-01-24T12:33:26.059602Z",
     "shell.execute_reply": "2021-01-24T12:33:26.060137Z"
    },
    "papermill": {
     "duration": 0.129189,
     "end_time": "2021-01-24T12:33:26.060293",
     "exception": false,
     "start_time": "2021-01-24T12:33:25.931104",
     "status": "completed"
    },
    "tags": []
   },
   "outputs": [
    {
     "data": {
      "text/plain": [
       "Make                                0\n",
       "Model                               0\n",
       "Vehicle Class                       0\n",
       "Engine Size(L)                      0\n",
       "Cylinders                           0\n",
       "Transmission                        0\n",
       "Fuel Type                           0\n",
       "Fuel Consumption City (L/100 km)    0\n",
       "Fuel Consumption Hwy (L/100 km)     0\n",
       "Fuel Consumption Comb (L/100 km)    0\n",
       "Fuel Consumption Comb (mpg)         0\n",
       "CO2 Emissions(g/km)                 0\n",
       "dtype: int64"
      ]
     },
     "execution_count": 6,
     "metadata": {},
     "output_type": "execute_result"
    }
   ],
   "source": [
    "df.isnull().sum()"
   ]
  },
  {
   "cell_type": "code",
   "execution_count": 7,
   "metadata": {
    "execution": {
     "iopub.execute_input": "2021-01-24T12:33:27.362579Z",
     "iopub.status.busy": "2021-01-24T12:33:27.361660Z",
     "iopub.status.idle": "2021-01-24T12:33:27.367685Z",
     "shell.execute_reply": "2021-01-24T12:33:27.367110Z"
    },
    "papermill": {
     "duration": 0.125727,
     "end_time": "2021-01-24T12:33:27.367801",
     "exception": false,
     "start_time": "2021-01-24T12:33:27.242074",
     "status": "completed"
    },
    "tags": []
   },
   "outputs": [],
   "source": [
    "df.drop_duplicates(inplace = True)"
   ]
  },
  {
   "cell_type": "code",
   "execution_count": 8,
   "metadata": {},
   "outputs": [
    {
     "data": {
      "text/plain": [
       "(6282, 12)"
      ]
     },
     "execution_count": 8,
     "metadata": {},
     "output_type": "execute_result"
    }
   ],
   "source": [
    "df.shape"
   ]
  },
  {
   "cell_type": "markdown",
   "metadata": {
    "papermill": {
     "duration": 0.118433,
     "end_time": "2021-01-24T12:33:27.602293",
     "exception": false,
     "start_time": "2021-01-24T12:33:27.483860",
     "status": "completed"
    },
    "tags": []
   },
   "source": [
    "## Describe Function\n",
    "* Generate descriptive statistics.<br>\n",
    "* Descriptive statistics include those that summarize the central tendency, dispersion and shape of a dataset’s distribution, excluding NaN values.<br>\n",
    "* The **describe**() function in pandas is very handy\n",
    "in getting various **summary statistics**.<br>\n",
    "* This function returns the **count**, **mean**, **standard deviation**,\n",
    "**minimum** and **maximum** **values** and the **quantiles of the data**.<br>"
   ]
  },
  {
   "cell_type": "code",
   "execution_count": 12,
   "metadata": {
    "execution": {
     "iopub.execute_input": "2021-01-24T12:33:27.847182Z",
     "iopub.status.busy": "2021-01-24T12:33:27.845040Z",
     "iopub.status.idle": "2021-01-24T12:33:27.882775Z",
     "shell.execute_reply": "2021-01-24T12:33:27.882144Z"
    },
    "papermill": {
     "duration": 0.164576,
     "end_time": "2021-01-24T12:33:27.882895",
     "exception": false,
     "start_time": "2021-01-24T12:33:27.718319",
     "status": "completed"
    },
    "tags": []
   },
   "outputs": [
    {
     "data": {
      "text/html": [
       "<div>\n",
       "<style scoped>\n",
       "    .dataframe tbody tr th:only-of-type {\n",
       "        vertical-align: middle;\n",
       "    }\n",
       "\n",
       "    .dataframe tbody tr th {\n",
       "        vertical-align: top;\n",
       "    }\n",
       "\n",
       "    .dataframe thead th {\n",
       "        text-align: right;\n",
       "    }\n",
       "</style>\n",
       "<table border=\"1\" class=\"dataframe\">\n",
       "  <thead>\n",
       "    <tr style=\"text-align: right;\">\n",
       "      <th></th>\n",
       "      <th>count</th>\n",
       "      <th>mean</th>\n",
       "      <th>std</th>\n",
       "      <th>min</th>\n",
       "      <th>25%</th>\n",
       "      <th>50%</th>\n",
       "      <th>75%</th>\n",
       "      <th>max</th>\n",
       "    </tr>\n",
       "  </thead>\n",
       "  <tbody>\n",
       "    <tr>\n",
       "      <th>Engine Size(L)</th>\n",
       "      <td>6282.0</td>\n",
       "      <td>3.161812</td>\n",
       "      <td>1.365201</td>\n",
       "      <td>0.9</td>\n",
       "      <td>2.0</td>\n",
       "      <td>3.0</td>\n",
       "      <td>3.7</td>\n",
       "      <td>8.4</td>\n",
       "    </tr>\n",
       "    <tr>\n",
       "      <th>Cylinders</th>\n",
       "      <td>6282.0</td>\n",
       "      <td>5.618911</td>\n",
       "      <td>1.846250</td>\n",
       "      <td>3.0</td>\n",
       "      <td>4.0</td>\n",
       "      <td>6.0</td>\n",
       "      <td>6.0</td>\n",
       "      <td>16.0</td>\n",
       "    </tr>\n",
       "    <tr>\n",
       "      <th>Fuel Consumption City (L/100 km)</th>\n",
       "      <td>6282.0</td>\n",
       "      <td>12.610220</td>\n",
       "      <td>3.553066</td>\n",
       "      <td>4.2</td>\n",
       "      <td>10.1</td>\n",
       "      <td>12.1</td>\n",
       "      <td>14.7</td>\n",
       "      <td>30.6</td>\n",
       "    </tr>\n",
       "    <tr>\n",
       "      <th>Fuel Consumption Hwy (L/100 km)</th>\n",
       "      <td>6282.0</td>\n",
       "      <td>9.070583</td>\n",
       "      <td>2.278884</td>\n",
       "      <td>4.0</td>\n",
       "      <td>7.5</td>\n",
       "      <td>8.7</td>\n",
       "      <td>10.3</td>\n",
       "      <td>20.6</td>\n",
       "    </tr>\n",
       "    <tr>\n",
       "      <th>Fuel Consumption Comb (L/100 km)</th>\n",
       "      <td>6282.0</td>\n",
       "      <td>11.017876</td>\n",
       "      <td>2.946876</td>\n",
       "      <td>4.1</td>\n",
       "      <td>8.9</td>\n",
       "      <td>10.6</td>\n",
       "      <td>12.7</td>\n",
       "      <td>26.1</td>\n",
       "    </tr>\n",
       "    <tr>\n",
       "      <th>Fuel Consumption Comb (mpg)</th>\n",
       "      <td>6282.0</td>\n",
       "      <td>27.411016</td>\n",
       "      <td>7.245318</td>\n",
       "      <td>11.0</td>\n",
       "      <td>22.0</td>\n",
       "      <td>27.0</td>\n",
       "      <td>32.0</td>\n",
       "      <td>69.0</td>\n",
       "    </tr>\n",
       "    <tr>\n",
       "      <th>CO2 Emissions(g/km)</th>\n",
       "      <td>6282.0</td>\n",
       "      <td>251.157752</td>\n",
       "      <td>59.290426</td>\n",
       "      <td>96.0</td>\n",
       "      <td>208.0</td>\n",
       "      <td>246.0</td>\n",
       "      <td>289.0</td>\n",
       "      <td>522.0</td>\n",
       "    </tr>\n",
       "  </tbody>\n",
       "</table>\n",
       "</div>"
      ],
      "text/plain": [
       "                                   count        mean        std   min    25%  \\\n",
       "Engine Size(L)                    6282.0    3.161812   1.365201   0.9    2.0   \n",
       "Cylinders                         6282.0    5.618911   1.846250   3.0    4.0   \n",
       "Fuel Consumption City (L/100 km)  6282.0   12.610220   3.553066   4.2   10.1   \n",
       "Fuel Consumption Hwy (L/100 km)   6282.0    9.070583   2.278884   4.0    7.5   \n",
       "Fuel Consumption Comb (L/100 km)  6282.0   11.017876   2.946876   4.1    8.9   \n",
       "Fuel Consumption Comb (mpg)       6282.0   27.411016   7.245318  11.0   22.0   \n",
       "CO2 Emissions(g/km)               6282.0  251.157752  59.290426  96.0  208.0   \n",
       "\n",
       "                                    50%    75%    max  \n",
       "Engine Size(L)                      3.0    3.7    8.4  \n",
       "Cylinders                           6.0    6.0   16.0  \n",
       "Fuel Consumption City (L/100 km)   12.1   14.7   30.6  \n",
       "Fuel Consumption Hwy (L/100 km)     8.7   10.3   20.6  \n",
       "Fuel Consumption Comb (L/100 km)   10.6   12.7   26.1  \n",
       "Fuel Consumption Comb (mpg)        27.0   32.0   69.0  \n",
       "CO2 Emissions(g/km)               246.0  289.0  522.0  "
      ]
     },
     "execution_count": 12,
     "metadata": {},
     "output_type": "execute_result"
    }
   ],
   "source": [
    "df.describe().T"
   ]
  },
  {
   "cell_type": "code",
   "execution_count": 15,
   "metadata": {
    "_kg_hide-input": true,
    "execution": {
     "iopub.execute_input": "2021-01-24T12:33:29.581907Z",
     "iopub.status.busy": "2021-01-24T12:33:29.567221Z",
     "iopub.status.idle": "2021-01-24T12:33:29.593288Z",
     "shell.execute_reply": "2021-01-24T12:33:29.594002Z"
    },
    "papermill": {
     "duration": 0.217177,
     "end_time": "2021-01-24T12:33:29.594197",
     "exception": false,
     "start_time": "2021-01-24T12:33:29.377020",
     "status": "completed"
    },
    "tags": []
   },
   "outputs": [
    {
     "name": "stdout",
     "output_type": "stream",
     "text": [
      "\n",
      "Value counts for column 'Make':\n",
      "FORD             577\n",
      "CHEVROLET        515\n",
      "BMW              501\n",
      "MERCEDES-BENZ    365\n",
      "PORSCHE          296\n",
      "GMC              289\n",
      "TOYOTA           276\n",
      "AUDI             263\n",
      "NISSAN           213\n",
      "MINI             200\n",
      "JEEP             200\n",
      "KIA              192\n",
      "VOLKSWAGEN       187\n",
      "HYUNDAI          184\n",
      "DODGE            180\n",
      "HONDA            164\n",
      "CADILLAC         141\n",
      "LEXUS            129\n",
      "MAZDA            127\n",
      "SUBARU           119\n",
      "JAGUAR           118\n",
      "VOLVO            118\n",
      "BUICK             92\n",
      "INFINITI          87\n",
      "LINCOLN           81\n",
      "LAND ROVER        76\n",
      "MITSUBISHI        73\n",
      "RAM               72\n",
      "CHRYSLER          64\n",
      "FIAT              56\n",
      "MASERATI          52\n",
      "ACURA             51\n",
      "ROLLS-ROYCE       48\n",
      "ASTON MARTIN      39\n",
      "LAMBORGHINI       37\n",
      "BENTLEY           35\n",
      "SCION             21\n",
      "ALFA ROMEO        19\n",
      "GENESIS           14\n",
      "SMART              7\n",
      "SRT                2\n",
      "BUGATTI            2\n",
      "Name: Make, dtype: int64\n",
      "\n",
      "Value counts for column 'Model':\n",
      "F-150 FFV             32\n",
      "F-150 FFV 4X4         31\n",
      "MUSTANG               27\n",
      "FOCUS FFV             24\n",
      "F-150 4X4             20\n",
      "                      ..\n",
      "LS 500                 1\n",
      "LS 500h                1\n",
      "NX 300 AWD F SPORT     1\n",
      "RX 350 L AWD           1\n",
      "XC40 T4 AWD            1\n",
      "Name: Model, Length: 2053, dtype: int64\n",
      "\n",
      "Value counts for column 'Vehicle Class':\n",
      "SUV - SMALL                 1006\n",
      "MID-SIZE                     983\n",
      "COMPACT                      903\n",
      "SUV - STANDARD               613\n",
      "SUBCOMPACT                   533\n",
      "FULL-SIZE                    508\n",
      "PICKUP TRUCK - STANDARD      475\n",
      "TWO-SEATER                   381\n",
      "MINICOMPACT                  274\n",
      "STATION WAGON - SMALL        214\n",
      "PICKUP TRUCK - SMALL         133\n",
      "VAN - PASSENGER               66\n",
      "SPECIAL PURPOSE VEHICLE       65\n",
      "MINIVAN                       61\n",
      "STATION WAGON - MID-SIZE      45\n",
      "VAN - CARGO                   22\n",
      "Name: Vehicle Class, dtype: int64\n",
      "\n",
      "Value counts for column 'Engine Size(L)':\n",
      "2.0    1260\n",
      "3.0     687\n",
      "3.6     433\n",
      "3.5     431\n",
      "2.5     355\n",
      "2.4     287\n",
      "1.6     272\n",
      "5.3     240\n",
      "1.8     191\n",
      "5.0     179\n",
      "1.5     176\n",
      "1.4     170\n",
      "4.0     161\n",
      "6.2     141\n",
      "4.4     124\n",
      "3.8     100\n",
      "5.7      92\n",
      "3.7      90\n",
      "2.7      86\n",
      "6.0      86\n",
      "4.7      70\n",
      "3.3      64\n",
      "5.5      50\n",
      "4.3      48\n",
      "3.4      48\n",
      "2.3      46\n",
      "5.2      42\n",
      "6.4      35\n",
      "5.6      31\n",
      "6.6      28\n",
      "4.8      28\n",
      "4.6      28\n",
      "3.2      27\n",
      "6.7      23\n",
      "2.8      20\n",
      "2.9      19\n",
      "1.2      19\n",
      "1.0      18\n",
      "6.5      17\n",
      "4.2      13\n",
      "5.4       8\n",
      "6.8       8\n",
      "1.3       7\n",
      "2.1       5\n",
      "8.4       5\n",
      "5.9       4\n",
      "6.3       3\n",
      "0.9       3\n",
      "8.0       2\n",
      "5.8       1\n",
      "2.2       1\n",
      "Name: Engine Size(L), dtype: int64\n",
      "\n",
      "Value counts for column 'Cylinders':\n",
      "4     2749\n",
      "6     2040\n",
      "8     1202\n",
      "12     135\n",
      "3       88\n",
      "10      40\n",
      "5       26\n",
      "16       2\n",
      "Name: Cylinders, dtype: int64\n",
      "\n",
      "Value counts for column 'Transmission':\n",
      "AS6     1139\n",
      "AS8     1056\n",
      "M6       773\n",
      "A6       684\n",
      "AM7      383\n",
      "A8       378\n",
      "AS7      283\n",
      "A9       263\n",
      "AV       241\n",
      "M5       168\n",
      "AS10     151\n",
      "AM6      107\n",
      "AV7       92\n",
      "AV6       89\n",
      "A5        78\n",
      "M7        78\n",
      "AS9       65\n",
      "A4        61\n",
      "AM8       45\n",
      "A7        44\n",
      "AV8       34\n",
      "A10       28\n",
      "AS5       26\n",
      "AV10       9\n",
      "AM5        4\n",
      "AS4        2\n",
      "AM9        1\n",
      "Name: Transmission, dtype: int64\n",
      "\n",
      "Value counts for column 'Fuel Type':\n",
      "X    3039\n",
      "Z    2765\n",
      "E     330\n",
      "D     147\n",
      "N       1\n",
      "Name: Fuel Type, dtype: int64\n",
      "\n",
      "Value counts for column 'Fuel Consumption City (L/100 km)':\n",
      "11.9    105\n",
      "10.8    100\n",
      "10.2     99\n",
      "10.6     99\n",
      "11.8     98\n",
      "       ... \n",
      "22.8      1\n",
      "23.1      1\n",
      "6.2       1\n",
      "21.6      1\n",
      "26.2      1\n",
      "Name: Fuel Consumption City (L/100 km), Length: 211, dtype: int64\n",
      "\n",
      "Value counts for column 'Fuel Consumption Hwy (L/100 km)':\n",
      "7.8     173\n",
      "8.5     153\n",
      "8.3     137\n",
      "7.0     136\n",
      "8.7     135\n",
      "       ... \n",
      "5.4       1\n",
      "18.1      1\n",
      "15.9      1\n",
      "4.2       1\n",
      "4.7       1\n",
      "Name: Fuel Consumption Hwy (L/100 km), Length: 143, dtype: int64\n",
      "\n",
      "Value counts for column 'Fuel Consumption Comb (L/100 km)':\n",
      "9.4     125\n",
      "8.4     119\n",
      "9.8     115\n",
      "9.1     114\n",
      "10.7    111\n",
      "       ... \n",
      "19.2      1\n",
      "21.0      1\n",
      "6.1       1\n",
      "19.9      1\n",
      "4.2       1\n",
      "Name: Fuel Consumption Comb (L/100 km), Length: 181, dtype: int64\n",
      "\n",
      "Value counts for column 'Fuel Consumption Comb (mpg)':\n",
      "25    396\n",
      "29    394\n",
      "27    384\n",
      "26    376\n",
      "22    374\n",
      "24    327\n",
      "31    310\n",
      "23    303\n",
      "30    285\n",
      "34    283\n",
      "20    275\n",
      "28    268\n",
      "32    251\n",
      "21    236\n",
      "19    226\n",
      "35    165\n",
      "33    148\n",
      "18    145\n",
      "17    144\n",
      "36    137\n",
      "16    120\n",
      "38    119\n",
      "37    111\n",
      "39     83\n",
      "15     65\n",
      "40     58\n",
      "42     42\n",
      "14     30\n",
      "41     28\n",
      "43     26\n",
      "13     24\n",
      "50     24\n",
      "44     15\n",
      "48     12\n",
      "47     11\n",
      "45      9\n",
      "55      9\n",
      "11      8\n",
      "58      6\n",
      "12      6\n",
      "60      6\n",
      "63      5\n",
      "49      5\n",
      "46      5\n",
      "59      5\n",
      "56      4\n",
      "53      4\n",
      "51      4\n",
      "52      3\n",
      "64      2\n",
      "69      2\n",
      "66      2\n",
      "54      1\n",
      "67      1\n",
      "Name: Fuel Consumption Comb (mpg), dtype: int64\n",
      "\n",
      "Value counts for column 'CO2 Emissions(g/km)':\n",
      "246    70\n",
      "221    70\n",
      "214    68\n",
      "294    68\n",
      "230    64\n",
      "       ..\n",
      "103     1\n",
      "428     1\n",
      "372     1\n",
      "467     1\n",
      "385     1\n",
      "Name: CO2 Emissions(g/km), Length: 331, dtype: int64\n"
     ]
    }
   ],
   "source": [
    "# Get value counts for each column\n",
    "for column in df.columns:\n",
    "    print(f\"\\nValue counts for column '{column}':\")\n",
    "    print(df[column].value_counts())"
   ]
  },
  {
   "cell_type": "markdown",
   "metadata": {
    "papermill": {
     "duration": 0.145171,
     "end_time": "2021-01-24T12:33:37.106453",
     "exception": false,
     "start_time": "2021-01-24T12:33:36.961282",
     "status": "completed"
    },
    "tags": []
   },
   "source": [
    "## <a id='10'> 10.Transmission </a>"
   ]
  },
  {
   "cell_type": "code",
   "execution_count": 16,
   "metadata": {
    "_kg_hide-input": false,
    "execution": {
     "iopub.execute_input": "2021-01-24T12:33:37.441024Z",
     "iopub.status.busy": "2021-01-24T12:33:37.430857Z",
     "iopub.status.idle": "2021-01-24T12:33:37.446680Z",
     "shell.execute_reply": "2021-01-24T12:33:37.447209Z"
    },
    "papermill": {
     "duration": 0.196167,
     "end_time": "2021-01-24T12:33:37.447369",
     "exception": false,
     "start_time": "2021-01-24T12:33:37.251202",
     "status": "completed"
    },
    "tags": []
   },
   "outputs": [
    {
     "data": {
      "text/html": [
       "<div>\n",
       "<style scoped>\n",
       "    .dataframe tbody tr th:only-of-type {\n",
       "        vertical-align: middle;\n",
       "    }\n",
       "\n",
       "    .dataframe tbody tr th {\n",
       "        vertical-align: top;\n",
       "    }\n",
       "\n",
       "    .dataframe thead th {\n",
       "        text-align: right;\n",
       "    }\n",
       "</style>\n",
       "<table border=\"1\" class=\"dataframe\">\n",
       "  <thead>\n",
       "    <tr style=\"text-align: right;\">\n",
       "      <th></th>\n",
       "      <th>Make</th>\n",
       "      <th>Model</th>\n",
       "      <th>Vehicle Class</th>\n",
       "      <th>Engine Size(L)</th>\n",
       "      <th>Cylinders</th>\n",
       "      <th>Transmission</th>\n",
       "      <th>Fuel Type</th>\n",
       "      <th>Fuel Consumption City (L/100 km)</th>\n",
       "      <th>Fuel Consumption Hwy (L/100 km)</th>\n",
       "      <th>Fuel Consumption Comb (L/100 km)</th>\n",
       "      <th>Fuel Consumption Comb (mpg)</th>\n",
       "      <th>CO2 Emissions(g/km)</th>\n",
       "      <th>Gears</th>\n",
       "    </tr>\n",
       "  </thead>\n",
       "  <tbody>\n",
       "    <tr>\n",
       "      <th>0</th>\n",
       "      <td>ACURA</td>\n",
       "      <td>ILX</td>\n",
       "      <td>COMPACT</td>\n",
       "      <td>2.0</td>\n",
       "      <td>4</td>\n",
       "      <td>AS</td>\n",
       "      <td>Z</td>\n",
       "      <td>9.9</td>\n",
       "      <td>6.7</td>\n",
       "      <td>8.5</td>\n",
       "      <td>33</td>\n",
       "      <td>196</td>\n",
       "      <td>5</td>\n",
       "    </tr>\n",
       "    <tr>\n",
       "      <th>1</th>\n",
       "      <td>ACURA</td>\n",
       "      <td>ILX</td>\n",
       "      <td>COMPACT</td>\n",
       "      <td>2.4</td>\n",
       "      <td>4</td>\n",
       "      <td>M</td>\n",
       "      <td>Z</td>\n",
       "      <td>11.2</td>\n",
       "      <td>7.7</td>\n",
       "      <td>9.6</td>\n",
       "      <td>29</td>\n",
       "      <td>221</td>\n",
       "      <td>6</td>\n",
       "    </tr>\n",
       "    <tr>\n",
       "      <th>2</th>\n",
       "      <td>ACURA</td>\n",
       "      <td>ILX HYBRID</td>\n",
       "      <td>COMPACT</td>\n",
       "      <td>1.5</td>\n",
       "      <td>4</td>\n",
       "      <td>AV</td>\n",
       "      <td>Z</td>\n",
       "      <td>6.0</td>\n",
       "      <td>5.8</td>\n",
       "      <td>5.9</td>\n",
       "      <td>48</td>\n",
       "      <td>136</td>\n",
       "      <td>7</td>\n",
       "    </tr>\n",
       "    <tr>\n",
       "      <th>3</th>\n",
       "      <td>ACURA</td>\n",
       "      <td>MDX 4WD</td>\n",
       "      <td>SUV - SMALL</td>\n",
       "      <td>3.5</td>\n",
       "      <td>6</td>\n",
       "      <td>AS</td>\n",
       "      <td>Z</td>\n",
       "      <td>12.7</td>\n",
       "      <td>9.1</td>\n",
       "      <td>11.1</td>\n",
       "      <td>25</td>\n",
       "      <td>255</td>\n",
       "      <td>6</td>\n",
       "    </tr>\n",
       "    <tr>\n",
       "      <th>4</th>\n",
       "      <td>ACURA</td>\n",
       "      <td>RDX AWD</td>\n",
       "      <td>SUV - SMALL</td>\n",
       "      <td>3.5</td>\n",
       "      <td>6</td>\n",
       "      <td>AS</td>\n",
       "      <td>Z</td>\n",
       "      <td>12.1</td>\n",
       "      <td>8.7</td>\n",
       "      <td>10.6</td>\n",
       "      <td>27</td>\n",
       "      <td>244</td>\n",
       "      <td>6</td>\n",
       "    </tr>\n",
       "  </tbody>\n",
       "</table>\n",
       "</div>"
      ],
      "text/plain": [
       "    Make       Model Vehicle Class  Engine Size(L)  Cylinders Transmission  \\\n",
       "0  ACURA         ILX       COMPACT             2.0          4           AS   \n",
       "1  ACURA         ILX       COMPACT             2.4          4            M   \n",
       "2  ACURA  ILX HYBRID       COMPACT             1.5          4           AV   \n",
       "3  ACURA     MDX 4WD   SUV - SMALL             3.5          6           AS   \n",
       "4  ACURA     RDX AWD   SUV - SMALL             3.5          6           AS   \n",
       "\n",
       "  Fuel Type  Fuel Consumption City (L/100 km)  \\\n",
       "0         Z                               9.9   \n",
       "1         Z                              11.2   \n",
       "2         Z                               6.0   \n",
       "3         Z                              12.7   \n",
       "4         Z                              12.1   \n",
       "\n",
       "   Fuel Consumption Hwy (L/100 km)  Fuel Consumption Comb (L/100 km)  \\\n",
       "0                              6.7                               8.5   \n",
       "1                              7.7                               9.6   \n",
       "2                              5.8                               5.9   \n",
       "3                              9.1                              11.1   \n",
       "4                              8.7                              10.6   \n",
       "\n",
       "   Fuel Consumption Comb (mpg)  CO2 Emissions(g/km) Gears  \n",
       "0                           33                  196     5  \n",
       "1                           29                  221     6  \n",
       "2                           48                  136     7  \n",
       "3                           25                  255     6  \n",
       "4                           27                  244     6  "
      ]
     },
     "execution_count": 16,
     "metadata": {},
     "output_type": "execute_result"
    }
   ],
   "source": [
    "df[\"Gears\"]= df['Transmission'].str[-1]\n",
    "\n",
    "df['Transmission']=df['Transmission'].str[0:-1]\n",
    "df.head()"
   ]
  },
  {
   "cell_type": "code",
   "execution_count": 35,
   "metadata": {
    "execution": {
     "iopub.execute_input": "2021-01-24T12:33:46.801750Z",
     "iopub.status.busy": "2021-01-24T12:33:46.800639Z",
     "iopub.status.idle": "2021-01-24T12:33:47.243092Z",
     "shell.execute_reply": "2021-01-24T12:33:47.242224Z"
    },
    "papermill": {
     "duration": 0.69344,
     "end_time": "2021-01-24T12:33:47.243208",
     "exception": false,
     "start_time": "2021-01-24T12:33:46.549768",
     "status": "completed"
    },
    "tags": []
   },
   "outputs": [
    {
     "name": "stdout",
     "output_type": "stream",
     "text": [
      "Correlation Matrix\n"
     ]
    },
    {
     "data": {
      "image/png": "[encoded data removed]",
      "text/plain": [
       "<Figure size 800x600 with 2 Axes>"
      ]
     },
     "metadata": {},
     "output_type": "display_data"
    }
   ],
   "source": [
    "print(\"Correlation Matrix\")\n",
    "plt.rcParams['figure.figsize']=(8,6)\n",
    "sns.heatmap(df.corr(),cmap='coolwarm',linewidths=.5,fmt=\".2f\",annot = True);"
   ]
  },
  {
   "cell_type": "markdown",
   "metadata": {
    "papermill": {
     "duration": 0.175668,
     "end_time": "2021-01-24T12:33:47.951058",
     "exception": false,
     "start_time": "2021-01-24T12:33:47.775390",
     "status": "completed"
    },
    "tags": []
   },
   "source": [
    "## <a id='17'> 16.1 Data Preprocessing</a>"
   ]
  },
  {
   "cell_type": "code",
   "execution_count": 36,
   "metadata": {
    "execution": {
     "iopub.execute_input": "2021-01-24T12:33:48.312589Z",
     "iopub.status.busy": "2021-01-24T12:33:48.311609Z",
     "iopub.status.idle": "2021-01-24T12:33:48.318887Z",
     "shell.execute_reply": "2021-01-24T12:33:48.318150Z"
    },
    "papermill": {
     "duration": 0.192841,
     "end_time": "2021-01-24T12:33:48.319040",
     "exception": false,
     "start_time": "2021-01-24T12:33:48.126199",
     "status": "completed"
    },
    "tags": []
   },
   "outputs": [],
   "source": [
    "df.drop(['Make','Model','Vehicle Class','Fuel Consumption City (L/100 km)','Fuel Consumption Hwy (L/100 km)','Transmission','Gears','Fuel Consumption Comb (mpg)'],inplace=True,axis=1)"
   ]
  },
  {
   "cell_type": "code",
   "execution_count": 37,
   "metadata": {
    "execution": {
     "iopub.execute_input": "2021-01-24T12:33:48.684621Z",
     "iopub.status.busy": "2021-01-24T12:33:48.683835Z",
     "iopub.status.idle": "2021-01-24T12:33:48.691043Z",
     "shell.execute_reply": "2021-01-24T12:33:48.690325Z"
    },
    "papermill": {
     "duration": 0.195962,
     "end_time": "2021-01-24T12:33:48.691160",
     "exception": false,
     "start_time": "2021-01-24T12:33:48.495198",
     "status": "completed"
    },
    "tags": []
   },
   "outputs": [
    {
     "data": {
      "text/html": [
       "<div>\n",
       "<style scoped>\n",
       "    .dataframe tbody tr th:only-of-type {\n",
       "        vertical-align: middle;\n",
       "    }\n",
       "\n",
       "    .dataframe tbody tr th {\n",
       "        vertical-align: top;\n",
       "    }\n",
       "\n",
       "    .dataframe thead th {\n",
       "        text-align: right;\n",
       "    }\n",
       "</style>\n",
       "<table border=\"1\" class=\"dataframe\">\n",
       "  <thead>\n",
       "    <tr style=\"text-align: right;\">\n",
       "      <th></th>\n",
       "      <th>Engine Size(L)</th>\n",
       "      <th>Cylinders</th>\n",
       "      <th>Fuel Type</th>\n",
       "      <th>Fuel Consumption Comb (L/100 km)</th>\n",
       "      <th>CO2 Emissions(g/km)</th>\n",
       "    </tr>\n",
       "  </thead>\n",
       "  <tbody>\n",
       "    <tr>\n",
       "      <th>0</th>\n",
       "      <td>2.0</td>\n",
       "      <td>4</td>\n",
       "      <td>Z</td>\n",
       "      <td>8.5</td>\n",
       "      <td>196</td>\n",
       "    </tr>\n",
       "    <tr>\n",
       "      <th>1</th>\n",
       "      <td>2.4</td>\n",
       "      <td>4</td>\n",
       "      <td>Z</td>\n",
       "      <td>9.6</td>\n",
       "      <td>221</td>\n",
       "    </tr>\n",
       "    <tr>\n",
       "      <th>2</th>\n",
       "      <td>1.5</td>\n",
       "      <td>4</td>\n",
       "      <td>Z</td>\n",
       "      <td>5.9</td>\n",
       "      <td>136</td>\n",
       "    </tr>\n",
       "    <tr>\n",
       "      <th>3</th>\n",
       "      <td>3.5</td>\n",
       "      <td>6</td>\n",
       "      <td>Z</td>\n",
       "      <td>11.1</td>\n",
       "      <td>255</td>\n",
       "    </tr>\n",
       "    <tr>\n",
       "      <th>4</th>\n",
       "      <td>3.5</td>\n",
       "      <td>6</td>\n",
       "      <td>Z</td>\n",
       "      <td>10.6</td>\n",
       "      <td>244</td>\n",
       "    </tr>\n",
       "  </tbody>\n",
       "</table>\n",
       "</div>"
      ],
      "text/plain": [
       "   Engine Size(L)  Cylinders Fuel Type  Fuel Consumption Comb (L/100 km)  \\\n",
       "0             2.0          4         Z                               8.5   \n",
       "1             2.4          4         Z                               9.6   \n",
       "2             1.5          4         Z                               5.9   \n",
       "3             3.5          6         Z                              11.1   \n",
       "4             3.5          6         Z                              10.6   \n",
       "\n",
       "   CO2 Emissions(g/km)  \n",
       "0                  196  \n",
       "1                  221  \n",
       "2                  136  \n",
       "3                  255  \n",
       "4                  244  "
      ]
     },
     "execution_count": 37,
     "metadata": {},
     "output_type": "execute_result"
    }
   ],
   "source": [
    "df.head()"
   ]
  },
  {
   "cell_type": "code",
   "execution_count": 38,
   "metadata": {
    "execution": {
     "iopub.execute_input": "2021-01-24T12:33:49.057735Z",
     "iopub.status.busy": "2021-01-24T12:33:49.057261Z",
     "iopub.status.idle": "2021-01-24T12:33:49.061003Z",
     "shell.execute_reply": "2021-01-24T12:33:49.060447Z"
    },
    "papermill": {
     "duration": 0.1934,
     "end_time": "2021-01-24T12:33:49.061088",
     "exception": false,
     "start_time": "2021-01-24T12:33:48.867688",
     "status": "completed"
    },
    "tags": []
   },
   "outputs": [
    {
     "data": {
      "text/html": [
       "<div>\n",
       "<style scoped>\n",
       "    .dataframe tbody tr th:only-of-type {\n",
       "        vertical-align: middle;\n",
       "    }\n",
       "\n",
       "    .dataframe tbody tr th {\n",
       "        vertical-align: top;\n",
       "    }\n",
       "\n",
       "    .dataframe thead th {\n",
       "        text-align: right;\n",
       "    }\n",
       "</style>\n",
       "<table border=\"1\" class=\"dataframe\">\n",
       "  <thead>\n",
       "    <tr style=\"text-align: right;\">\n",
       "      <th></th>\n",
       "      <th>Engine Size(L)</th>\n",
       "      <th>Cylinders</th>\n",
       "      <th>Fuel Type</th>\n",
       "      <th>Fuel Consumption Comb (L/100 km)</th>\n",
       "      <th>CO2 Emissions(g/km)</th>\n",
       "    </tr>\n",
       "  </thead>\n",
       "  <tbody>\n",
       "    <tr>\n",
       "      <th>2439</th>\n",
       "      <td>3.6</td>\n",
       "      <td>6</td>\n",
       "      <td>N</td>\n",
       "      <td>12.7</td>\n",
       "      <td>213</td>\n",
       "    </tr>\n",
       "  </tbody>\n",
       "</table>\n",
       "</div>"
      ],
      "text/plain": [
       "      Engine Size(L)  Cylinders Fuel Type  Fuel Consumption Comb (L/100 km)  \\\n",
       "2439             3.6          6         N                              12.7   \n",
       "\n",
       "      CO2 Emissions(g/km)  \n",
       "2439                  213  "
      ]
     },
     "execution_count": 38,
     "metadata": {},
     "output_type": "execute_result"
    }
   ],
   "source": [
    "df_N=df[df[\"Fuel Type\"]==\"N\"]\n",
    "indexs=df_N.index\n",
    "df_N"
   ]
  },
  {
   "cell_type": "code",
   "execution_count": 39,
   "metadata": {
    "execution": {
     "iopub.execute_input": "2021-01-24T12:33:49.355344Z",
     "iopub.status.busy": "2021-01-24T12:33:49.354868Z",
     "iopub.status.idle": "2021-01-24T12:33:49.360811Z",
     "shell.execute_reply": "2021-01-24T12:33:49.361388Z"
    },
    "papermill": {
     "duration": 0.143602,
     "end_time": "2021-01-24T12:33:49.361544",
     "exception": false,
     "start_time": "2021-01-24T12:33:49.217942",
     "status": "completed"
    },
    "tags": []
   },
   "outputs": [],
   "source": [
    "# Kick Fuel Type N\n",
    "for i in indexs:\n",
    "    df.drop(i, axis = 0,inplace = True)"
   ]
  },
  {
   "cell_type": "code",
   "execution_count": 40,
   "metadata": {
    "execution": {
     "iopub.execute_input": "2021-01-24T12:33:49.726410Z",
     "iopub.status.busy": "2021-01-24T12:33:49.725725Z",
     "iopub.status.idle": "2021-01-24T12:33:49.737603Z",
     "shell.execute_reply": "2021-01-24T12:33:49.736883Z"
    },
    "papermill": {
     "duration": 0.196641,
     "end_time": "2021-01-24T12:33:49.737722",
     "exception": false,
     "start_time": "2021-01-24T12:33:49.541081",
     "status": "completed"
    },
    "tags": []
   },
   "outputs": [
    {
     "data": {
      "text/html": [
       "<div>\n",
       "<style scoped>\n",
       "    .dataframe tbody tr th:only-of-type {\n",
       "        vertical-align: middle;\n",
       "    }\n",
       "\n",
       "    .dataframe tbody tr th {\n",
       "        vertical-align: top;\n",
       "    }\n",
       "\n",
       "    .dataframe thead th {\n",
       "        text-align: right;\n",
       "    }\n",
       "</style>\n",
       "<table border=\"1\" class=\"dataframe\">\n",
       "  <thead>\n",
       "    <tr style=\"text-align: right;\">\n",
       "      <th></th>\n",
       "      <th>Engine Size(L)</th>\n",
       "      <th>Cylinders</th>\n",
       "      <th>Fuel Type</th>\n",
       "      <th>Fuel Consumption Comb (L/100 km)</th>\n",
       "      <th>CO2 Emissions(g/km)</th>\n",
       "    </tr>\n",
       "  </thead>\n",
       "  <tbody>\n",
       "  </tbody>\n",
       "</table>\n",
       "</div>"
      ],
      "text/plain": [
       "Empty DataFrame\n",
       "Columns: [Engine Size(L), Cylinders, Fuel Type, Fuel Consumption Comb (L/100 km), CO2 Emissions(g/km)]\n",
       "Index: []"
      ]
     },
     "execution_count": 40,
     "metadata": {},
     "output_type": "execute_result"
    }
   ],
   "source": [
    "df[df[\"Fuel Type\"]==\"N\"]"
   ]
  },
  {
   "cell_type": "markdown",
   "metadata": {
    "papermill": {
     "duration": 0.177662,
     "end_time": "2021-01-24T12:33:50.097304",
     "exception": false,
     "start_time": "2021-01-24T12:33:49.919642",
     "status": "completed"
    },
    "tags": []
   },
   "source": [
    "* Fuel type\n",
    "* X = Regular gasoline\n",
    "* Z = Premium gasoline\n",
    "* D = Diesel\n",
    "* E = Ethanol (E85)\n",
    "* N = Natural gas (none)"
   ]
  },
  {
   "cell_type": "code",
   "execution_count": 41,
   "metadata": {
    "execution": {
     "iopub.execute_input": "2021-01-24T12:33:50.460539Z",
     "iopub.status.busy": "2021-01-24T12:33:50.459775Z",
     "iopub.status.idle": "2021-01-24T12:33:50.474636Z",
     "shell.execute_reply": "2021-01-24T12:33:50.474064Z"
    },
    "papermill": {
     "duration": 0.198872,
     "end_time": "2021-01-24T12:33:50.474755",
     "exception": false,
     "start_time": "2021-01-24T12:33:50.275883",
     "status": "completed"
    },
    "tags": []
   },
   "outputs": [
    {
     "data": {
      "text/html": [
       "<div>\n",
       "<style scoped>\n",
       "    .dataframe tbody tr th:only-of-type {\n",
       "        vertical-align: middle;\n",
       "    }\n",
       "\n",
       "    .dataframe tbody tr th {\n",
       "        vertical-align: top;\n",
       "    }\n",
       "\n",
       "    .dataframe thead th {\n",
       "        text-align: right;\n",
       "    }\n",
       "</style>\n",
       "<table border=\"1\" class=\"dataframe\">\n",
       "  <thead>\n",
       "    <tr style=\"text-align: right;\">\n",
       "      <th></th>\n",
       "      <th>Fuel_Type_E</th>\n",
       "      <th>Fuel_Type_X</th>\n",
       "      <th>Fuel_Type_Z</th>\n",
       "    </tr>\n",
       "  </thead>\n",
       "  <tbody>\n",
       "    <tr>\n",
       "      <th>0</th>\n",
       "      <td>0</td>\n",
       "      <td>0</td>\n",
       "      <td>1</td>\n",
       "    </tr>\n",
       "    <tr>\n",
       "      <th>1</th>\n",
       "      <td>0</td>\n",
       "      <td>0</td>\n",
       "      <td>1</td>\n",
       "    </tr>\n",
       "    <tr>\n",
       "      <th>2</th>\n",
       "      <td>0</td>\n",
       "      <td>0</td>\n",
       "      <td>1</td>\n",
       "    </tr>\n",
       "    <tr>\n",
       "      <th>3</th>\n",
       "      <td>0</td>\n",
       "      <td>0</td>\n",
       "      <td>1</td>\n",
       "    </tr>\n",
       "    <tr>\n",
       "      <th>4</th>\n",
       "      <td>0</td>\n",
       "      <td>0</td>\n",
       "      <td>1</td>\n",
       "    </tr>\n",
       "    <tr>\n",
       "      <th>5</th>\n",
       "      <td>0</td>\n",
       "      <td>0</td>\n",
       "      <td>1</td>\n",
       "    </tr>\n",
       "    <tr>\n",
       "      <th>6</th>\n",
       "      <td>0</td>\n",
       "      <td>0</td>\n",
       "      <td>1</td>\n",
       "    </tr>\n",
       "    <tr>\n",
       "      <th>7</th>\n",
       "      <td>0</td>\n",
       "      <td>0</td>\n",
       "      <td>1</td>\n",
       "    </tr>\n",
       "    <tr>\n",
       "      <th>8</th>\n",
       "      <td>0</td>\n",
       "      <td>0</td>\n",
       "      <td>1</td>\n",
       "    </tr>\n",
       "    <tr>\n",
       "      <th>9</th>\n",
       "      <td>0</td>\n",
       "      <td>0</td>\n",
       "      <td>1</td>\n",
       "    </tr>\n",
       "    <tr>\n",
       "      <th>10</th>\n",
       "      <td>0</td>\n",
       "      <td>0</td>\n",
       "      <td>1</td>\n",
       "    </tr>\n",
       "    <tr>\n",
       "      <th>11</th>\n",
       "      <td>0</td>\n",
       "      <td>0</td>\n",
       "      <td>1</td>\n",
       "    </tr>\n",
       "    <tr>\n",
       "      <th>12</th>\n",
       "      <td>0</td>\n",
       "      <td>0</td>\n",
       "      <td>1</td>\n",
       "    </tr>\n",
       "    <tr>\n",
       "      <th>13</th>\n",
       "      <td>0</td>\n",
       "      <td>0</td>\n",
       "      <td>1</td>\n",
       "    </tr>\n",
       "    <tr>\n",
       "      <th>14</th>\n",
       "      <td>0</td>\n",
       "      <td>0</td>\n",
       "      <td>1</td>\n",
       "    </tr>\n",
       "  </tbody>\n",
       "</table>\n",
       "</div>"
      ],
      "text/plain": [
       "    Fuel_Type_E  Fuel_Type_X  Fuel_Type_Z\n",
       "0             0            0            1\n",
       "1             0            0            1\n",
       "2             0            0            1\n",
       "3             0            0            1\n",
       "4             0            0            1\n",
       "5             0            0            1\n",
       "6             0            0            1\n",
       "7             0            0            1\n",
       "8             0            0            1\n",
       "9             0            0            1\n",
       "10            0            0            1\n",
       "11            0            0            1\n",
       "12            0            0            1\n",
       "13            0            0            1\n",
       "14            0            0            1"
      ]
     },
     "execution_count": 41,
     "metadata": {},
     "output_type": "execute_result"
    }
   ],
   "source": [
    "dums = pd.get_dummies(df['Fuel Type'],prefix=\"Fuel_Type\",drop_first=True)\n",
    "dums[0:15]"
   ]
  },
  {
   "cell_type": "code",
   "execution_count": 42,
   "metadata": {
    "execution": {
     "iopub.execute_input": "2021-01-24T12:33:50.975548Z",
     "iopub.status.busy": "2021-01-24T12:33:50.974712Z",
     "iopub.status.idle": "2021-01-24T12:33:50.999013Z",
     "shell.execute_reply": "2021-01-24T12:33:50.999702Z"
    },
    "papermill": {
     "duration": 0.280672,
     "end_time": "2021-01-24T12:33:50.999868",
     "exception": false,
     "start_time": "2021-01-24T12:33:50.719196",
     "status": "completed"
    },
    "tags": []
   },
   "outputs": [
    {
     "data": {
      "text/html": [
       "<div>\n",
       "<style scoped>\n",
       "    .dataframe tbody tr th:only-of-type {\n",
       "        vertical-align: middle;\n",
       "    }\n",
       "\n",
       "    .dataframe tbody tr th {\n",
       "        vertical-align: top;\n",
       "    }\n",
       "\n",
       "    .dataframe thead th {\n",
       "        text-align: right;\n",
       "    }\n",
       "</style>\n",
       "<table border=\"1\" class=\"dataframe\">\n",
       "  <thead>\n",
       "    <tr style=\"text-align: right;\">\n",
       "      <th></th>\n",
       "      <th>Engine Size(L)</th>\n",
       "      <th>Cylinders</th>\n",
       "      <th>Fuel Type</th>\n",
       "      <th>Fuel Consumption Comb (L/100 km)</th>\n",
       "      <th>CO2 Emissions(g/km)</th>\n",
       "      <th>Fuel_Type_E</th>\n",
       "      <th>Fuel_Type_X</th>\n",
       "      <th>Fuel_Type_Z</th>\n",
       "    </tr>\n",
       "  </thead>\n",
       "  <tbody>\n",
       "    <tr>\n",
       "      <th>0</th>\n",
       "      <td>2.0</td>\n",
       "      <td>4</td>\n",
       "      <td>Z</td>\n",
       "      <td>8.5</td>\n",
       "      <td>196</td>\n",
       "      <td>0</td>\n",
       "      <td>0</td>\n",
       "      <td>1</td>\n",
       "    </tr>\n",
       "    <tr>\n",
       "      <th>1</th>\n",
       "      <td>2.4</td>\n",
       "      <td>4</td>\n",
       "      <td>Z</td>\n",
       "      <td>9.6</td>\n",
       "      <td>221</td>\n",
       "      <td>0</td>\n",
       "      <td>0</td>\n",
       "      <td>1</td>\n",
       "    </tr>\n",
       "    <tr>\n",
       "      <th>2</th>\n",
       "      <td>1.5</td>\n",
       "      <td>4</td>\n",
       "      <td>Z</td>\n",
       "      <td>5.9</td>\n",
       "      <td>136</td>\n",
       "      <td>0</td>\n",
       "      <td>0</td>\n",
       "      <td>1</td>\n",
       "    </tr>\n",
       "    <tr>\n",
       "      <th>3</th>\n",
       "      <td>3.5</td>\n",
       "      <td>6</td>\n",
       "      <td>Z</td>\n",
       "      <td>11.1</td>\n",
       "      <td>255</td>\n",
       "      <td>0</td>\n",
       "      <td>0</td>\n",
       "      <td>1</td>\n",
       "    </tr>\n",
       "    <tr>\n",
       "      <th>4</th>\n",
       "      <td>3.5</td>\n",
       "      <td>6</td>\n",
       "      <td>Z</td>\n",
       "      <td>10.6</td>\n",
       "      <td>244</td>\n",
       "      <td>0</td>\n",
       "      <td>0</td>\n",
       "      <td>1</td>\n",
       "    </tr>\n",
       "    <tr>\n",
       "      <th>...</th>\n",
       "      <td>...</td>\n",
       "      <td>...</td>\n",
       "      <td>...</td>\n",
       "      <td>...</td>\n",
       "      <td>...</td>\n",
       "      <td>...</td>\n",
       "      <td>...</td>\n",
       "      <td>...</td>\n",
       "    </tr>\n",
       "    <tr>\n",
       "      <th>7380</th>\n",
       "      <td>2.0</td>\n",
       "      <td>4</td>\n",
       "      <td>Z</td>\n",
       "      <td>9.4</td>\n",
       "      <td>219</td>\n",
       "      <td>0</td>\n",
       "      <td>0</td>\n",
       "      <td>1</td>\n",
       "    </tr>\n",
       "    <tr>\n",
       "      <th>7381</th>\n",
       "      <td>2.0</td>\n",
       "      <td>4</td>\n",
       "      <td>Z</td>\n",
       "      <td>9.9</td>\n",
       "      <td>232</td>\n",
       "      <td>0</td>\n",
       "      <td>0</td>\n",
       "      <td>1</td>\n",
       "    </tr>\n",
       "    <tr>\n",
       "      <th>7382</th>\n",
       "      <td>2.0</td>\n",
       "      <td>4</td>\n",
       "      <td>Z</td>\n",
       "      <td>10.3</td>\n",
       "      <td>240</td>\n",
       "      <td>0</td>\n",
       "      <td>0</td>\n",
       "      <td>1</td>\n",
       "    </tr>\n",
       "    <tr>\n",
       "      <th>7383</th>\n",
       "      <td>2.0</td>\n",
       "      <td>4</td>\n",
       "      <td>Z</td>\n",
       "      <td>9.9</td>\n",
       "      <td>232</td>\n",
       "      <td>0</td>\n",
       "      <td>0</td>\n",
       "      <td>1</td>\n",
       "    </tr>\n",
       "    <tr>\n",
       "      <th>7384</th>\n",
       "      <td>2.0</td>\n",
       "      <td>4</td>\n",
       "      <td>Z</td>\n",
       "      <td>10.7</td>\n",
       "      <td>248</td>\n",
       "      <td>0</td>\n",
       "      <td>0</td>\n",
       "      <td>1</td>\n",
       "    </tr>\n",
       "  </tbody>\n",
       "</table>\n",
       "<p>6281 rows × 8 columns</p>\n",
       "</div>"
      ],
      "text/plain": [
       "      Engine Size(L)  Cylinders Fuel Type  Fuel Consumption Comb (L/100 km)  \\\n",
       "0                2.0          4         Z                               8.5   \n",
       "1                2.4          4         Z                               9.6   \n",
       "2                1.5          4         Z                               5.9   \n",
       "3                3.5          6         Z                              11.1   \n",
       "4                3.5          6         Z                              10.6   \n",
       "...              ...        ...       ...                               ...   \n",
       "7380             2.0          4         Z                               9.4   \n",
       "7381             2.0          4         Z                               9.9   \n",
       "7382             2.0          4         Z                              10.3   \n",
       "7383             2.0          4         Z                               9.9   \n",
       "7384             2.0          4         Z                              10.7   \n",
       "\n",
       "      CO2 Emissions(g/km)  Fuel_Type_E  Fuel_Type_X  Fuel_Type_Z  \n",
       "0                     196            0            0            1  \n",
       "1                     221            0            0            1  \n",
       "2                     136            0            0            1  \n",
       "3                     255            0            0            1  \n",
       "4                     244            0            0            1  \n",
       "...                   ...          ...          ...          ...  \n",
       "7380                  219            0            0            1  \n",
       "7381                  232            0            0            1  \n",
       "7382                  240            0            0            1  \n",
       "7383                  232            0            0            1  \n",
       "7384                  248            0            0            1  \n",
       "\n",
       "[6281 rows x 8 columns]"
      ]
     },
     "execution_count": 42,
     "metadata": {},
     "output_type": "execute_result"
    }
   ],
   "source": [
    "frames = [df, dums]\n",
    "result = pd.concat(frames,axis=1)\n",
    "result"
   ]
  },
  {
   "cell_type": "code",
   "execution_count": 43,
   "metadata": {
    "execution": {
     "iopub.execute_input": "2021-01-24T12:33:51.519319Z",
     "iopub.status.busy": "2021-01-24T12:33:51.518313Z",
     "iopub.status.idle": "2021-01-24T12:33:51.537683Z",
     "shell.execute_reply": "2021-01-24T12:33:51.536953Z"
    },
    "papermill": {
     "duration": 0.280071,
     "end_time": "2021-01-24T12:33:51.537811",
     "exception": false,
     "start_time": "2021-01-24T12:33:51.257740",
     "status": "completed"
    },
    "tags": []
   },
   "outputs": [
    {
     "data": {
      "text/html": [
       "<div>\n",
       "<style scoped>\n",
       "    .dataframe tbody tr th:only-of-type {\n",
       "        vertical-align: middle;\n",
       "    }\n",
       "\n",
       "    .dataframe tbody tr th {\n",
       "        vertical-align: top;\n",
       "    }\n",
       "\n",
       "    .dataframe thead th {\n",
       "        text-align: right;\n",
       "    }\n",
       "</style>\n",
       "<table border=\"1\" class=\"dataframe\">\n",
       "  <thead>\n",
       "    <tr style=\"text-align: right;\">\n",
       "      <th></th>\n",
       "      <th>Engine Size(L)</th>\n",
       "      <th>Cylinders</th>\n",
       "      <th>Fuel Consumption Comb (L/100 km)</th>\n",
       "      <th>CO2 Emissions(g/km)</th>\n",
       "      <th>Fuel_Type_E</th>\n",
       "      <th>Fuel_Type_X</th>\n",
       "      <th>Fuel_Type_Z</th>\n",
       "    </tr>\n",
       "  </thead>\n",
       "  <tbody>\n",
       "    <tr>\n",
       "      <th>0</th>\n",
       "      <td>2.0</td>\n",
       "      <td>4</td>\n",
       "      <td>8.5</td>\n",
       "      <td>196</td>\n",
       "      <td>0</td>\n",
       "      <td>0</td>\n",
       "      <td>1</td>\n",
       "    </tr>\n",
       "    <tr>\n",
       "      <th>1</th>\n",
       "      <td>2.4</td>\n",
       "      <td>4</td>\n",
       "      <td>9.6</td>\n",
       "      <td>221</td>\n",
       "      <td>0</td>\n",
       "      <td>0</td>\n",
       "      <td>1</td>\n",
       "    </tr>\n",
       "    <tr>\n",
       "      <th>2</th>\n",
       "      <td>1.5</td>\n",
       "      <td>4</td>\n",
       "      <td>5.9</td>\n",
       "      <td>136</td>\n",
       "      <td>0</td>\n",
       "      <td>0</td>\n",
       "      <td>1</td>\n",
       "    </tr>\n",
       "    <tr>\n",
       "      <th>3</th>\n",
       "      <td>3.5</td>\n",
       "      <td>6</td>\n",
       "      <td>11.1</td>\n",
       "      <td>255</td>\n",
       "      <td>0</td>\n",
       "      <td>0</td>\n",
       "      <td>1</td>\n",
       "    </tr>\n",
       "    <tr>\n",
       "      <th>4</th>\n",
       "      <td>3.5</td>\n",
       "      <td>6</td>\n",
       "      <td>10.6</td>\n",
       "      <td>244</td>\n",
       "      <td>0</td>\n",
       "      <td>0</td>\n",
       "      <td>1</td>\n",
       "    </tr>\n",
       "  </tbody>\n",
       "</table>\n",
       "</div>"
      ],
      "text/plain": [
       "   Engine Size(L)  Cylinders  Fuel Consumption Comb (L/100 km)  \\\n",
       "0             2.0          4                               8.5   \n",
       "1             2.4          4                               9.6   \n",
       "2             1.5          4                               5.9   \n",
       "3             3.5          6                              11.1   \n",
       "4             3.5          6                              10.6   \n",
       "\n",
       "   CO2 Emissions(g/km)  Fuel_Type_E  Fuel_Type_X  Fuel_Type_Z  \n",
       "0                  196            0            0            1  \n",
       "1                  221            0            0            1  \n",
       "2                  136            0            0            1  \n",
       "3                  255            0            0            1  \n",
       "4                  244            0            0            1  "
      ]
     },
     "execution_count": 43,
     "metadata": {},
     "output_type": "execute_result"
    }
   ],
   "source": [
    "result.drop(['Fuel Type'],inplace=True,axis=1)\n",
    "result.head()"
   ]
  },
  {
   "cell_type": "markdown",
   "metadata": {
    "papermill": {
     "duration": 0.262274,
     "end_time": "2021-01-24T12:33:58.671900",
     "exception": false,
     "start_time": "2021-01-24T12:33:58.409626",
     "status": "completed"
    },
    "tags": []
   },
   "source": [
    "##  Normalize"
   ]
  },
  {
   "cell_type": "code",
   "execution_count": 44,
   "metadata": {
    "execution": {
     "iopub.execute_input": "2021-01-24T12:33:59.203895Z",
     "iopub.status.busy": "2021-01-24T12:33:59.203038Z",
     "iopub.status.idle": "2021-01-24T12:33:59.208493Z",
     "shell.execute_reply": "2021-01-24T12:33:59.209314Z"
    },
    "papermill": {
     "duration": 0.27467,
     "end_time": "2021-01-24T12:33:59.209501",
     "exception": false,
     "start_time": "2021-01-24T12:33:58.934831",
     "status": "completed"
    },
    "tags": []
   },
   "outputs": [],
   "source": [
    "X = result.drop(['CO2 Emissions(g/km)'], axis= 1)\n",
    "y = result[\"CO2 Emissions(g/km)\"]"
   ]
  },
  {
   "cell_type": "code",
   "execution_count": 45,
   "metadata": {
    "execution": {
     "iopub.execute_input": "2021-01-24T12:33:59.747327Z",
     "iopub.status.busy": "2021-01-24T12:33:59.746676Z",
     "iopub.status.idle": "2021-01-24T12:33:59.757935Z",
     "shell.execute_reply": "2021-01-24T12:33:59.757324Z"
    },
    "papermill": {
     "duration": 0.283706,
     "end_time": "2021-01-24T12:33:59.758089",
     "exception": false,
     "start_time": "2021-01-24T12:33:59.474383",
     "status": "completed"
    },
    "tags": []
   },
   "outputs": [],
   "source": [
    "# Normalize\n",
    "X = (X - np.min(X)) / (np.max(X) - np.min(X)).values\n"
   ]
  },
  {
   "cell_type": "code",
   "execution_count": 46,
   "metadata": {
    "execution": {
     "iopub.execute_input": "2021-01-24T12:34:00.143533Z",
     "iopub.status.busy": "2021-01-24T12:34:00.137827Z",
     "iopub.status.idle": "2021-01-24T12:34:00.151343Z",
     "shell.execute_reply": "2021-01-24T12:34:00.151856Z"
    },
    "papermill": {
     "duration": 0.206194,
     "end_time": "2021-01-24T12:34:00.152014",
     "exception": false,
     "start_time": "2021-01-24T12:33:59.945820",
     "status": "completed"
    },
    "tags": []
   },
   "outputs": [
    {
     "data": {
      "text/html": [
       "<div>\n",
       "<style scoped>\n",
       "    .dataframe tbody tr th:only-of-type {\n",
       "        vertical-align: middle;\n",
       "    }\n",
       "\n",
       "    .dataframe tbody tr th {\n",
       "        vertical-align: top;\n",
       "    }\n",
       "\n",
       "    .dataframe thead th {\n",
       "        text-align: right;\n",
       "    }\n",
       "</style>\n",
       "<table border=\"1\" class=\"dataframe\">\n",
       "  <thead>\n",
       "    <tr style=\"text-align: right;\">\n",
       "      <th></th>\n",
       "      <th>Engine Size(L)</th>\n",
       "      <th>Cylinders</th>\n",
       "      <th>Fuel Consumption Comb (L/100 km)</th>\n",
       "      <th>Fuel_Type_E</th>\n",
       "      <th>Fuel_Type_X</th>\n",
       "      <th>Fuel_Type_Z</th>\n",
       "    </tr>\n",
       "  </thead>\n",
       "  <tbody>\n",
       "    <tr>\n",
       "      <th>0</th>\n",
       "      <td>0.146667</td>\n",
       "      <td>0.076923</td>\n",
       "      <td>0.200000</td>\n",
       "      <td>0.0</td>\n",
       "      <td>0.0</td>\n",
       "      <td>1.0</td>\n",
       "    </tr>\n",
       "    <tr>\n",
       "      <th>1</th>\n",
       "      <td>0.200000</td>\n",
       "      <td>0.076923</td>\n",
       "      <td>0.250000</td>\n",
       "      <td>0.0</td>\n",
       "      <td>0.0</td>\n",
       "      <td>1.0</td>\n",
       "    </tr>\n",
       "    <tr>\n",
       "      <th>2</th>\n",
       "      <td>0.080000</td>\n",
       "      <td>0.076923</td>\n",
       "      <td>0.081818</td>\n",
       "      <td>0.0</td>\n",
       "      <td>0.0</td>\n",
       "      <td>1.0</td>\n",
       "    </tr>\n",
       "    <tr>\n",
       "      <th>3</th>\n",
       "      <td>0.346667</td>\n",
       "      <td>0.230769</td>\n",
       "      <td>0.318182</td>\n",
       "      <td>0.0</td>\n",
       "      <td>0.0</td>\n",
       "      <td>1.0</td>\n",
       "    </tr>\n",
       "    <tr>\n",
       "      <th>4</th>\n",
       "      <td>0.346667</td>\n",
       "      <td>0.230769</td>\n",
       "      <td>0.295455</td>\n",
       "      <td>0.0</td>\n",
       "      <td>0.0</td>\n",
       "      <td>1.0</td>\n",
       "    </tr>\n",
       "    <tr>\n",
       "      <th>...</th>\n",
       "      <td>...</td>\n",
       "      <td>...</td>\n",
       "      <td>...</td>\n",
       "      <td>...</td>\n",
       "      <td>...</td>\n",
       "      <td>...</td>\n",
       "    </tr>\n",
       "    <tr>\n",
       "      <th>7380</th>\n",
       "      <td>0.146667</td>\n",
       "      <td>0.076923</td>\n",
       "      <td>0.240909</td>\n",
       "      <td>0.0</td>\n",
       "      <td>0.0</td>\n",
       "      <td>1.0</td>\n",
       "    </tr>\n",
       "    <tr>\n",
       "      <th>7381</th>\n",
       "      <td>0.146667</td>\n",
       "      <td>0.076923</td>\n",
       "      <td>0.263636</td>\n",
       "      <td>0.0</td>\n",
       "      <td>0.0</td>\n",
       "      <td>1.0</td>\n",
       "    </tr>\n",
       "    <tr>\n",
       "      <th>7382</th>\n",
       "      <td>0.146667</td>\n",
       "      <td>0.076923</td>\n",
       "      <td>0.281818</td>\n",
       "      <td>0.0</td>\n",
       "      <td>0.0</td>\n",
       "      <td>1.0</td>\n",
       "    </tr>\n",
       "    <tr>\n",
       "      <th>7383</th>\n",
       "      <td>0.146667</td>\n",
       "      <td>0.076923</td>\n",
       "      <td>0.263636</td>\n",
       "      <td>0.0</td>\n",
       "      <td>0.0</td>\n",
       "      <td>1.0</td>\n",
       "    </tr>\n",
       "    <tr>\n",
       "      <th>7384</th>\n",
       "      <td>0.146667</td>\n",
       "      <td>0.076923</td>\n",
       "      <td>0.300000</td>\n",
       "      <td>0.0</td>\n",
       "      <td>0.0</td>\n",
       "      <td>1.0</td>\n",
       "    </tr>\n",
       "  </tbody>\n",
       "</table>\n",
       "<p>6281 rows × 6 columns</p>\n",
       "</div>"
      ],
      "text/plain": [
       "      Engine Size(L)  Cylinders  Fuel Consumption Comb (L/100 km)  \\\n",
       "0           0.146667   0.076923                          0.200000   \n",
       "1           0.200000   0.076923                          0.250000   \n",
       "2           0.080000   0.076923                          0.081818   \n",
       "3           0.346667   0.230769                          0.318182   \n",
       "4           0.346667   0.230769                          0.295455   \n",
       "...              ...        ...                               ...   \n",
       "7380        0.146667   0.076923                          0.240909   \n",
       "7381        0.146667   0.076923                          0.263636   \n",
       "7382        0.146667   0.076923                          0.281818   \n",
       "7383        0.146667   0.076923                          0.263636   \n",
       "7384        0.146667   0.076923                          0.300000   \n",
       "\n",
       "      Fuel_Type_E  Fuel_Type_X  Fuel_Type_Z  \n",
       "0             0.0          0.0          1.0  \n",
       "1             0.0          0.0          1.0  \n",
       "2             0.0          0.0          1.0  \n",
       "3             0.0          0.0          1.0  \n",
       "4             0.0          0.0          1.0  \n",
       "...           ...          ...          ...  \n",
       "7380          0.0          0.0          1.0  \n",
       "7381          0.0          0.0          1.0  \n",
       "7382          0.0          0.0          1.0  \n",
       "7383          0.0          0.0          1.0  \n",
       "7384          0.0          0.0          1.0  \n",
       "\n",
       "[6281 rows x 6 columns]"
      ]
     },
     "execution_count": 46,
     "metadata": {},
     "output_type": "execute_result"
    }
   ],
   "source": [
    "X"
   ]
  },
  {
   "cell_type": "code",
   "execution_count": 47,
   "metadata": {
    "execution": {
     "iopub.execute_input": "2021-01-24T12:34:00.532085Z",
     "iopub.status.busy": "2021-01-24T12:34:00.531410Z",
     "iopub.status.idle": "2021-01-24T12:34:00.578779Z",
     "shell.execute_reply": "2021-01-24T12:34:00.579286Z"
    },
    "papermill": {
     "duration": 0.238551,
     "end_time": "2021-01-24T12:34:00.579434",
     "exception": false,
     "start_time": "2021-01-24T12:34:00.340883",
     "status": "completed"
    },
    "tags": []
   },
   "outputs": [
    {
     "data": {
      "text/html": [
       "<div>\n",
       "<style scoped>\n",
       "    .dataframe tbody tr th:only-of-type {\n",
       "        vertical-align: middle;\n",
       "    }\n",
       "\n",
       "    .dataframe tbody tr th {\n",
       "        vertical-align: top;\n",
       "    }\n",
       "\n",
       "    .dataframe thead th {\n",
       "        text-align: right;\n",
       "    }\n",
       "</style>\n",
       "<table border=\"1\" class=\"dataframe\">\n",
       "  <thead>\n",
       "    <tr style=\"text-align: right;\">\n",
       "      <th></th>\n",
       "      <th>Engine Size(L)</th>\n",
       "      <th>Cylinders</th>\n",
       "      <th>Fuel Consumption Comb (L/100 km)</th>\n",
       "      <th>Fuel_Type_E</th>\n",
       "      <th>Fuel_Type_X</th>\n",
       "      <th>Fuel_Type_Z</th>\n",
       "    </tr>\n",
       "  </thead>\n",
       "  <tbody>\n",
       "    <tr>\n",
       "      <th>0</th>\n",
       "      <td>0.15</td>\n",
       "      <td>0.08</td>\n",
       "      <td>0.20</td>\n",
       "      <td>0.0</td>\n",
       "      <td>0.0</td>\n",
       "      <td>1.0</td>\n",
       "    </tr>\n",
       "    <tr>\n",
       "      <th>1</th>\n",
       "      <td>0.20</td>\n",
       "      <td>0.08</td>\n",
       "      <td>0.25</td>\n",
       "      <td>0.0</td>\n",
       "      <td>0.0</td>\n",
       "      <td>1.0</td>\n",
       "    </tr>\n",
       "    <tr>\n",
       "      <th>2</th>\n",
       "      <td>0.08</td>\n",
       "      <td>0.08</td>\n",
       "      <td>0.08</td>\n",
       "      <td>0.0</td>\n",
       "      <td>0.0</td>\n",
       "      <td>1.0</td>\n",
       "    </tr>\n",
       "    <tr>\n",
       "      <th>3</th>\n",
       "      <td>0.35</td>\n",
       "      <td>0.23</td>\n",
       "      <td>0.32</td>\n",
       "      <td>0.0</td>\n",
       "      <td>0.0</td>\n",
       "      <td>1.0</td>\n",
       "    </tr>\n",
       "    <tr>\n",
       "      <th>4</th>\n",
       "      <td>0.35</td>\n",
       "      <td>0.23</td>\n",
       "      <td>0.30</td>\n",
       "      <td>0.0</td>\n",
       "      <td>0.0</td>\n",
       "      <td>1.0</td>\n",
       "    </tr>\n",
       "    <tr>\n",
       "      <th>...</th>\n",
       "      <td>...</td>\n",
       "      <td>...</td>\n",
       "      <td>...</td>\n",
       "      <td>...</td>\n",
       "      <td>...</td>\n",
       "      <td>...</td>\n",
       "    </tr>\n",
       "    <tr>\n",
       "      <th>7380</th>\n",
       "      <td>0.15</td>\n",
       "      <td>0.08</td>\n",
       "      <td>0.24</td>\n",
       "      <td>0.0</td>\n",
       "      <td>0.0</td>\n",
       "      <td>1.0</td>\n",
       "    </tr>\n",
       "    <tr>\n",
       "      <th>7381</th>\n",
       "      <td>0.15</td>\n",
       "      <td>0.08</td>\n",
       "      <td>0.26</td>\n",
       "      <td>0.0</td>\n",
       "      <td>0.0</td>\n",
       "      <td>1.0</td>\n",
       "    </tr>\n",
       "    <tr>\n",
       "      <th>7382</th>\n",
       "      <td>0.15</td>\n",
       "      <td>0.08</td>\n",
       "      <td>0.28</td>\n",
       "      <td>0.0</td>\n",
       "      <td>0.0</td>\n",
       "      <td>1.0</td>\n",
       "    </tr>\n",
       "    <tr>\n",
       "      <th>7383</th>\n",
       "      <td>0.15</td>\n",
       "      <td>0.08</td>\n",
       "      <td>0.26</td>\n",
       "      <td>0.0</td>\n",
       "      <td>0.0</td>\n",
       "      <td>1.0</td>\n",
       "    </tr>\n",
       "    <tr>\n",
       "      <th>7384</th>\n",
       "      <td>0.15</td>\n",
       "      <td>0.08</td>\n",
       "      <td>0.30</td>\n",
       "      <td>0.0</td>\n",
       "      <td>0.0</td>\n",
       "      <td>1.0</td>\n",
       "    </tr>\n",
       "  </tbody>\n",
       "</table>\n",
       "<p>6281 rows × 6 columns</p>\n",
       "</div>"
      ],
      "text/plain": [
       "      Engine Size(L)  Cylinders  Fuel Consumption Comb (L/100 km)  \\\n",
       "0               0.15       0.08                              0.20   \n",
       "1               0.20       0.08                              0.25   \n",
       "2               0.08       0.08                              0.08   \n",
       "3               0.35       0.23                              0.32   \n",
       "4               0.35       0.23                              0.30   \n",
       "...              ...        ...                               ...   \n",
       "7380            0.15       0.08                              0.24   \n",
       "7381            0.15       0.08                              0.26   \n",
       "7382            0.15       0.08                              0.28   \n",
       "7383            0.15       0.08                              0.26   \n",
       "7384            0.15       0.08                              0.30   \n",
       "\n",
       "      Fuel_Type_E  Fuel_Type_X  Fuel_Type_Z  \n",
       "0             0.0          0.0          1.0  \n",
       "1             0.0          0.0          1.0  \n",
       "2             0.0          0.0          1.0  \n",
       "3             0.0          0.0          1.0  \n",
       "4             0.0          0.0          1.0  \n",
       "...           ...          ...          ...  \n",
       "7380          0.0          0.0          1.0  \n",
       "7381          0.0          0.0          1.0  \n",
       "7382          0.0          0.0          1.0  \n",
       "7383          0.0          0.0          1.0  \n",
       "7384          0.0          0.0          1.0  \n",
       "\n",
       "[6281 rows x 6 columns]"
      ]
     },
     "execution_count": 47,
     "metadata": {},
     "output_type": "execute_result"
    }
   ],
   "source": [
    "X[\"Engine Size(L)\"]=X[\"Engine Size(L)\"].map(lambda x:round(x,2))\n",
    "X[\"Cylinders\"]=X[\"Cylinders\"].map(lambda x:round(x,2))\n",
    "X[\"Fuel Consumption Comb (L/100 km)\"]=X[\"Fuel Consumption Comb (L/100 km)\"].map(lambda x:round(x,2))\n",
    "X"
   ]
  },
  {
   "cell_type": "code",
   "execution_count": 48,
   "metadata": {
    "execution": {
     "iopub.execute_input": "2021-01-24T12:34:01.093425Z",
     "iopub.status.busy": "2021-01-24T12:34:01.092585Z",
     "iopub.status.idle": "2021-01-24T12:34:01.107271Z",
     "shell.execute_reply": "2021-01-24T12:34:01.106627Z"
    },
    "papermill": {
     "duration": 0.27944,
     "end_time": "2021-01-24T12:34:01.107387",
     "exception": false,
     "start_time": "2021-01-24T12:34:00.827947",
     "status": "completed"
    },
    "tags": []
   },
   "outputs": [
    {
     "name": "stdout",
     "output_type": "stream",
     "text": [
      "X_train (4710, 6)\n",
      "y_train (4710,)\n",
      "X_test (1571, 6)\n",
      "y_test (1571,)\n"
     ]
    }
   ],
   "source": [
    "from sklearn.model_selection import train_test_split, cross_val_score, cross_val_predict\n",
    "X_train, X_test, y_train, y_test = train_test_split(X,\n",
    "                                                    y, \n",
    "                                                    test_size=0.25, \n",
    "                                                    random_state=42)\n",
    "\n",
    "print(\"X_train\", X_train.shape)\n",
    "\n",
    "print(\"y_train\",y_train.shape)\n",
    "\n",
    "print(\"X_test\",X_test.shape)\n",
    "\n",
    "print(\"y_test\",y_test.shape)"
   ]
  },
  {
   "cell_type": "markdown",
   "metadata": {
    "papermill": {
     "duration": 0.192349,
     "end_time": "2021-01-24T12:34:01.487510",
     "exception": false,
     "start_time": "2021-01-24T12:34:01.295161",
     "status": "completed"
    },
    "tags": []
   },
   "source": [
    "## <a id='20'> 18.Linear Regression </a>"
   ]
  },
  {
   "cell_type": "code",
   "execution_count": 49,
   "metadata": {
    "execution": {
     "iopub.execute_input": "2021-01-24T12:34:01.876399Z",
     "iopub.status.busy": "2021-01-24T12:34:01.875444Z",
     "iopub.status.idle": "2021-01-24T12:34:01.928445Z",
     "shell.execute_reply": "2021-01-24T12:34:01.927823Z"
    },
    "papermill": {
     "duration": 0.248242,
     "end_time": "2021-01-24T12:34:01.928533",
     "exception": false,
     "start_time": "2021-01-24T12:34:01.680291",
     "status": "completed"
    },
    "tags": []
   },
   "outputs": [],
   "source": [
    "from sklearn.linear_model import LinearRegression\n",
    "lm = LinearRegression()\n",
    "model = lm.fit(X_train, y_train)"
   ]
  },
  {
   "cell_type": "code",
   "execution_count": 50,
   "metadata": {
    "execution": {
     "iopub.execute_input": "2021-01-24T12:34:02.288661Z",
     "iopub.status.busy": "2021-01-24T12:34:02.287834Z",
     "iopub.status.idle": "2021-01-24T12:34:02.293350Z",
     "shell.execute_reply": "2021-01-24T12:34:02.293769Z"
    },
    "papermill": {
     "duration": 0.185966,
     "end_time": "2021-01-24T12:34:02.293885",
     "exception": false,
     "start_time": "2021-01-24T12:34:02.107919",
     "status": "completed"
    },
    "tags": []
   },
   "outputs": [
    {
     "data": {
      "text/plain": [
       "130.73788824722817"
      ]
     },
     "execution_count": 50,
     "metadata": {},
     "output_type": "execute_result"
    }
   ],
   "source": [
    "model.intercept_"
   ]
  },
  {
   "cell_type": "code",
   "execution_count": 51,
   "metadata": {
    "execution": {
     "iopub.execute_input": "2021-01-24T12:34:02.677260Z",
     "iopub.status.busy": "2021-01-24T12:34:02.676522Z",
     "iopub.status.idle": "2021-01-24T12:34:02.682307Z",
     "shell.execute_reply": "2021-01-24T12:34:02.682936Z"
    },
    "papermill": {
     "duration": 0.20315,
     "end_time": "2021-01-24T12:34:02.683102",
     "exception": false,
     "start_time": "2021-01-24T12:34:02.479952",
     "status": "completed"
    },
    "tags": []
   },
   "outputs": [
    {
     "data": {
      "text/plain": [
       "array([   2.70924534,    9.01491931,  488.42959852, -143.02252516,\n",
       "        -30.70998571,  -30.51414311])"
      ]
     },
     "execution_count": 51,
     "metadata": {},
     "output_type": "execute_result"
    }
   ],
   "source": [
    "model.coef_"
   ]
  },
  {
   "cell_type": "code",
   "execution_count": 52,
   "metadata": {
    "execution": {
     "iopub.execute_input": "2021-01-24T12:34:03.070717Z",
     "iopub.status.busy": "2021-01-24T12:34:03.070076Z",
     "iopub.status.idle": "2021-01-24T12:34:03.077314Z",
     "shell.execute_reply": "2021-01-24T12:34:03.076390Z"
    },
    "papermill": {
     "duration": 0.204842,
     "end_time": "2021-01-24T12:34:03.077511",
     "exception": false,
     "start_time": "2021-01-24T12:34:02.872669",
     "status": "completed"
    },
    "tags": []
   },
   "outputs": [
    {
     "data": {
      "text/plain": [
       "5.667106328798627"
      ]
     },
     "execution_count": 52,
     "metadata": {},
     "output_type": "execute_result"
    }
   ],
   "source": [
    "from sklearn.metrics import mean_squared_error, r2_score\n",
    "np.sqrt(mean_squared_error(y_train, model.predict(X_train)))\n"
   ]
  },
  {
   "cell_type": "code",
   "execution_count": 147,
   "metadata": {
    "execution": {
     "iopub.execute_input": "2021-01-24T12:34:03.545844Z",
     "iopub.status.busy": "2021-01-24T12:34:03.544957Z",
     "iopub.status.idle": "2021-01-24T12:34:03.550399Z",
     "shell.execute_reply": "2021-01-24T12:34:03.549895Z"
    },
    "papermill": {
     "duration": 0.280005,
     "end_time": "2021-01-24T12:34:03.550487",
     "exception": false,
     "start_time": "2021-01-24T12:34:03.270482",
     "status": "completed"
    },
    "tags": []
   },
   "outputs": [
    {
     "data": {
      "text/plain": [
       "6.299932478149575"
      ]
     },
     "execution_count": 147,
     "metadata": {},
     "output_type": "execute_result"
    }
   ],
   "source": [
    "rms1=np.sqrt(mean_squared_error(y_test, model.predict(X_test)))\n",
    "rms1"
   ]
  },
  {
   "cell_type": "code",
   "execution_count": 143,
   "metadata": {
    "execution": {
     "iopub.execute_input": "2021-01-24T12:34:03.934959Z",
     "iopub.status.busy": "2021-01-24T12:34:03.934337Z",
     "iopub.status.idle": "2021-01-24T12:34:03.947181Z",
     "shell.execute_reply": "2021-01-24T12:34:03.946563Z"
    },
    "papermill": {
     "duration": 0.208999,
     "end_time": "2021-01-24T12:34:03.947299",
     "exception": false,
     "start_time": "2021-01-24T12:34:03.738300",
     "status": "completed"
    },
    "tags": []
   },
   "outputs": [
    {
     "data": {
      "text/plain": [
       "0.9907248032494974"
      ]
     },
     "execution_count": 143,
     "metadata": {},
     "output_type": "execute_result"
    }
   ],
   "source": [
    "training1=model.score(X_train, y_train)\n",
    "training1"
   ]
  },
  {
   "cell_type": "code",
   "execution_count": 80,
   "metadata": {},
   "outputs": [
    {
     "data": {
      "text/plain": [
       "0.9907248032494974"
      ]
     },
     "execution_count": 80,
     "metadata": {},
     "output_type": "execute_result"
    }
   ],
   "source": [
    "r2_score(y_train, model.predict(X_train))"
   ]
  },
  {
   "cell_type": "code",
   "execution_count": 144,
   "metadata": {},
   "outputs": [
    {
     "data": {
      "text/plain": [
       "0.9891919506844762"
      ]
     },
     "execution_count": 144,
     "metadata": {},
     "output_type": "execute_result"
    }
   ],
   "source": [
    "testing1=model.score(X_test, y_test)\n",
    "testing1"
   ]
  },
  {
   "cell_type": "code",
   "execution_count": 56,
   "metadata": {},
   "outputs": [
    {
     "data": {
      "text/plain": [
       "0.9891919506844762"
      ]
     },
     "execution_count": 56,
     "metadata": {},
     "output_type": "execute_result"
    }
   ],
   "source": [
    "r2_score(y_test, model.predict(X_test))"
   ]
  },
  {
   "cell_type": "code",
   "execution_count": 58,
   "metadata": {
    "execution": {
     "iopub.execute_input": "2021-01-24T12:34:04.339958Z",
     "iopub.status.busy": "2021-01-24T12:34:04.339310Z",
     "iopub.status.idle": "2021-01-24T12:34:04.415629Z",
     "shell.execute_reply": "2021-01-24T12:34:04.416284Z"
    },
    "papermill": {
     "duration": 0.277155,
     "end_time": "2021-01-24T12:34:04.416444",
     "exception": false,
     "start_time": "2021-01-24T12:34:04.139289",
     "status": "completed"
    },
    "tags": []
   },
   "outputs": [
    {
     "data": {
      "text/plain": [
       "0.9906379113814507"
      ]
     },
     "execution_count": 58,
     "metadata": {},
     "output_type": "execute_result"
    }
   ],
   "source": [
    "cross_val_score(model, X_train, y_train, cv = 20, scoring = \"r2\").mean()"
   ]
  },
  {
   "cell_type": "markdown",
   "metadata": {
    "papermill": {
     "duration": 0.289252,
     "end_time": "2021-01-24T12:34:19.602601",
     "exception": false,
     "start_time": "2021-01-24T12:34:19.313349",
     "status": "completed"
    },
    "tags": []
   },
   "source": [
    "## <a id='23'> 21.KNN </a>"
   ]
  },
  {
   "cell_type": "code",
   "execution_count": 81,
   "metadata": {
    "execution": {
     "iopub.execute_input": "2021-01-24T12:34:19.996776Z",
     "iopub.status.busy": "2021-01-24T12:34:19.996320Z",
     "iopub.status.idle": "2021-01-24T12:34:20.000466Z",
     "shell.execute_reply": "2021-01-24T12:34:20.000086Z"
    },
    "papermill": {
     "duration": 0.177505,
     "end_time": "2021-01-24T12:34:20.000545",
     "exception": false,
     "start_time": "2021-01-24T12:34:19.823040",
     "status": "completed"
    },
    "tags": []
   },
   "outputs": [],
   "source": [
    "from sklearn.neighbors import KNeighborsRegressor"
   ]
  },
  {
   "cell_type": "code",
   "execution_count": 82,
   "metadata": {
    "execution": {
     "iopub.execute_input": "2021-01-24T12:34:20.421093Z",
     "iopub.status.busy": "2021-01-24T12:34:20.403531Z",
     "iopub.status.idle": "2021-01-24T12:34:20.427548Z",
     "shell.execute_reply": "2021-01-24T12:34:20.426507Z"
    },
    "papermill": {
     "duration": 0.237746,
     "end_time": "2021-01-24T12:34:20.427709",
     "exception": false,
     "start_time": "2021-01-24T12:34:20.189963",
     "status": "completed"
    },
    "tags": []
   },
   "outputs": [],
   "source": [
    "knn_model = KNeighborsRegressor().fit(X_train, y_train)"
   ]
  },
  {
   "cell_type": "code",
   "execution_count": 83,
   "metadata": {
    "execution": {
     "iopub.execute_input": "2021-01-24T12:34:21.006568Z",
     "iopub.status.busy": "2021-01-24T12:34:21.005952Z",
     "iopub.status.idle": "2021-01-24T12:34:21.009238Z",
     "shell.execute_reply": "2021-01-24T12:34:21.008846Z"
    },
    "papermill": {
     "duration": 0.298174,
     "end_time": "2021-01-24T12:34:21.009320",
     "exception": false,
     "start_time": "2021-01-24T12:34:20.711146",
     "status": "completed"
    },
    "tags": []
   },
   "outputs": [
    {
     "data": {
      "text/plain": [
       "KNeighborsRegressor()"
      ]
     },
     "execution_count": 83,
     "metadata": {},
     "output_type": "execute_result"
    }
   ],
   "source": [
    "knn_model"
   ]
  },
  {
   "cell_type": "code",
   "execution_count": 84,
   "metadata": {
    "execution": {
     "iopub.execute_input": "2021-01-24T12:34:21.392154Z",
     "iopub.status.busy": "2021-01-24T12:34:21.391466Z",
     "iopub.status.idle": "2021-01-24T12:34:21.440638Z",
     "shell.execute_reply": "2021-01-24T12:34:21.440091Z"
    },
    "papermill": {
     "duration": 0.25568,
     "end_time": "2021-01-24T12:34:21.440755",
     "exception": false,
     "start_time": "2021-01-24T12:34:21.185075",
     "status": "completed"
    },
    "tags": []
   },
   "outputs": [],
   "source": [
    "y_pred = knn_model.predict(X_test)"
   ]
  },
  {
   "cell_type": "code",
   "execution_count": 85,
   "metadata": {
    "execution": {
     "iopub.execute_input": "2021-01-24T12:34:21.849407Z",
     "iopub.status.busy": "2021-01-24T12:34:21.848691Z",
     "iopub.status.idle": "2021-01-24T12:34:21.854246Z",
     "shell.execute_reply": "2021-01-24T12:34:21.853448Z"
    },
    "papermill": {
     "duration": 0.227856,
     "end_time": "2021-01-24T12:34:21.854396",
     "exception": false,
     "start_time": "2021-01-24T12:34:21.626540",
     "status": "completed"
    },
    "tags": []
   },
   "outputs": [
    {
     "data": {
      "text/plain": [
       "4.591013279012738"
      ]
     },
     "execution_count": 85,
     "metadata": {},
     "output_type": "execute_result"
    }
   ],
   "source": [
    "np.sqrt(mean_squared_error(y_test, y_pred))"
   ]
  },
  {
   "cell_type": "code",
   "execution_count": 145,
   "metadata": {
    "execution": {
     "iopub.execute_input": "2021-01-24T12:34:22.413032Z",
     "iopub.status.busy": "2021-01-24T12:34:22.412418Z",
     "iopub.status.idle": "2021-01-24T12:34:22.498899Z",
     "shell.execute_reply": "2021-01-24T12:34:22.498047Z"
    },
    "papermill": {
     "duration": 0.34882,
     "end_time": "2021-01-24T12:34:22.499100",
     "exception": false,
     "start_time": "2021-01-24T12:34:22.150280",
     "status": "completed"
    },
    "tags": []
   },
   "outputs": [
    {
     "data": {
      "text/plain": [
       "0.9962764267814417"
      ]
     },
     "execution_count": 145,
     "metadata": {},
     "output_type": "execute_result"
    }
   ],
   "source": [
    "training2=knn_model.score(X_train, y_train)\n",
    "training2"
   ]
  },
  {
   "cell_type": "code",
   "execution_count": 149,
   "metadata": {},
   "outputs": [
    {
     "data": {
      "text/plain": [
       "0.9962764267814417"
      ]
     },
     "execution_count": 149,
     "metadata": {},
     "output_type": "execute_result"
    }
   ],
   "source": [
    "r2_score(y_train, knn_model.predict(X_train))"
   ]
  },
  {
   "cell_type": "code",
   "execution_count": 146,
   "metadata": {},
   "outputs": [
    {
     "data": {
      "text/plain": [
       "0.9942602546359973"
      ]
     },
     "execution_count": 146,
     "metadata": {},
     "output_type": "execute_result"
    }
   ],
   "source": [
    "testing2=knn_model.score(X_test, y_test)\n",
    "testing2"
   ]
  },
  {
   "cell_type": "code",
   "execution_count": 88,
   "metadata": {},
   "outputs": [
    {
     "data": {
      "text/plain": [
       "0.9942602546359973"
      ]
     },
     "execution_count": 88,
     "metadata": {},
     "output_type": "execute_result"
    }
   ],
   "source": [
    "r2_score(y_test, y_pred)"
   ]
  },
  {
   "cell_type": "code",
   "execution_count": 89,
   "metadata": {
    "execution": {
     "iopub.execute_input": "2021-01-24T12:34:23.538588Z",
     "iopub.status.busy": "2021-01-24T12:34:23.537926Z",
     "iopub.status.idle": "2021-01-24T12:34:23.541585Z",
     "shell.execute_reply": "2021-01-24T12:34:23.542244Z"
    },
    "papermill": {
     "duration": 0.216147,
     "end_time": "2021-01-24T12:34:23.542385",
     "exception": false,
     "start_time": "2021-01-24T12:34:23.326238",
     "status": "completed"
    },
    "tags": []
   },
   "outputs": [],
   "source": [
    "from sklearn.model_selection import GridSearchCV\n",
    "knn_params = {'n_neighbors': np.arange(1,30,1)}\n",
    "knn = KNeighborsRegressor()\n",
    "knn_cv_model = GridSearchCV(knn, knn_params, cv = 10)"
   ]
  },
  {
   "cell_type": "code",
   "execution_count": 90,
   "metadata": {
    "execution": {
     "iopub.execute_input": "2021-01-24T12:34:23.975831Z",
     "iopub.status.busy": "2021-01-24T12:34:23.975153Z",
     "iopub.status.idle": "2021-01-24T12:34:32.473295Z",
     "shell.execute_reply": "2021-01-24T12:34:32.474138Z"
    },
    "papermill": {
     "duration": 8.724711,
     "end_time": "2021-01-24T12:34:32.474329",
     "exception": false,
     "start_time": "2021-01-24T12:34:23.749618",
     "status": "completed"
    },
    "tags": []
   },
   "outputs": [
    {
     "data": {
      "text/plain": [
       "GridSearchCV(cv=10, estimator=KNeighborsRegressor(),\n",
       "             param_grid={'n_neighbors': array([ 1,  2,  3,  4,  5,  6,  7,  8,  9, 10, 11, 12, 13, 14, 15, 16, 17,\n",
       "       18, 19, 20, 21, 22, 23, 24, 25, 26, 27, 28, 29])})"
      ]
     },
     "execution_count": 90,
     "metadata": {},
     "output_type": "execute_result"
    }
   ],
   "source": [
    "knn_cv_model.fit(X_train, y_train)"
   ]
  },
  {
   "cell_type": "code",
   "execution_count": 91,
   "metadata": {
    "execution": {
     "iopub.execute_input": "2021-01-24T12:34:33.066392Z",
     "iopub.status.busy": "2021-01-24T12:34:33.065527Z",
     "iopub.status.idle": "2021-01-24T12:34:33.071499Z",
     "shell.execute_reply": "2021-01-24T12:34:33.070572Z"
    },
    "papermill": {
     "duration": 0.305668,
     "end_time": "2021-01-24T12:34:33.071619",
     "exception": false,
     "start_time": "2021-01-24T12:34:32.765951",
     "status": "completed"
    },
    "tags": []
   },
   "outputs": [
    {
     "data": {
      "text/plain": [
       "2"
      ]
     },
     "execution_count": 91,
     "metadata": {},
     "output_type": "execute_result"
    }
   ],
   "source": [
    "knn_cv_model.best_params_[\"n_neighbors\"]"
   ]
  },
  {
   "cell_type": "code",
   "execution_count": 92,
   "metadata": {
    "execution": {
     "iopub.execute_input": "2021-01-24T12:34:33.499670Z",
     "iopub.status.busy": "2021-01-24T12:34:33.498932Z",
     "iopub.status.idle": "2021-01-24T12:34:33.502062Z",
     "shell.execute_reply": "2021-01-24T12:34:33.501393Z"
    },
    "papermill": {
     "duration": 0.221029,
     "end_time": "2021-01-24T12:34:33.502183",
     "exception": false,
     "start_time": "2021-01-24T12:34:33.281154",
     "status": "completed"
    },
    "tags": []
   },
   "outputs": [],
   "source": [
    "knn_tuned = KNeighborsRegressor(n_neighbors = knn_cv_model.best_params_[\"n_neighbors\"])"
   ]
  },
  {
   "cell_type": "code",
   "execution_count": 93,
   "metadata": {
    "execution": {
     "iopub.execute_input": "2021-01-24T12:34:33.924331Z",
     "iopub.status.busy": "2021-01-24T12:34:33.923625Z",
     "iopub.status.idle": "2021-01-24T12:34:33.939203Z",
     "shell.execute_reply": "2021-01-24T12:34:33.938755Z"
    },
    "papermill": {
     "duration": 0.230908,
     "end_time": "2021-01-24T12:34:33.939296",
     "exception": false,
     "start_time": "2021-01-24T12:34:33.708388",
     "status": "completed"
    },
    "tags": []
   },
   "outputs": [
    {
     "data": {
      "text/plain": [
       "KNeighborsRegressor(n_neighbors=2)"
      ]
     },
     "execution_count": 93,
     "metadata": {},
     "output_type": "execute_result"
    }
   ],
   "source": [
    "knn_tuned.fit(X_train, y_train)"
   ]
  },
  {
   "cell_type": "code",
   "execution_count": 152,
   "metadata": {
    "execution": {
     "iopub.execute_input": "2021-01-24T12:34:34.337719Z",
     "iopub.status.busy": "2021-01-24T12:34:34.336878Z",
     "iopub.status.idle": "2021-01-24T12:34:34.368481Z",
     "shell.execute_reply": "2021-01-24T12:34:34.369154Z"
    },
    "papermill": {
     "duration": 0.237984,
     "end_time": "2021-01-24T12:34:34.369304",
     "exception": false,
     "start_time": "2021-01-24T12:34:34.131320",
     "status": "completed"
    },
    "tags": []
   },
   "outputs": [
    {
     "data": {
      "text/plain": [
       "4.242603178637061"
      ]
     },
     "execution_count": 152,
     "metadata": {},
     "output_type": "execute_result"
    }
   ],
   "source": [
    "rms2=np.sqrt(mean_squared_error(y_test, knn_tuned.predict(X_test)))\n",
    "rms2"
   ]
  },
  {
   "cell_type": "code",
   "execution_count": 95,
   "metadata": {},
   "outputs": [
    {
     "data": {
      "text/plain": [
       "3.1746323992689804"
      ]
     },
     "execution_count": 95,
     "metadata": {},
     "output_type": "execute_result"
    }
   ],
   "source": [
    "np.sqrt(mean_squared_error(y_train, knn_tuned.predict(X_train)))"
   ]
  },
  {
   "cell_type": "code",
   "execution_count": 150,
   "metadata": {
    "execution": {
     "iopub.execute_input": "2021-01-24T12:34:34.789133Z",
     "iopub.status.busy": "2021-01-24T12:34:34.788346Z",
     "iopub.status.idle": "2021-01-24T12:34:34.799551Z",
     "shell.execute_reply": "2021-01-24T12:34:34.798929Z"
    },
    "papermill": {
     "duration": 0.223921,
     "end_time": "2021-01-24T12:34:34.799670",
     "exception": false,
     "start_time": "2021-01-24T12:34:34.575749",
     "status": "completed"
    },
    "tags": []
   },
   "outputs": [
    {
     "data": {
      "text/plain": [
       "0.9970893680184294"
      ]
     },
     "execution_count": 150,
     "metadata": {},
     "output_type": "execute_result"
    }
   ],
   "source": [
    "training2=knn_tuned.score(X_train, y_train)\n",
    "training2"
   ]
  },
  {
   "cell_type": "code",
   "execution_count": 151,
   "metadata": {},
   "outputs": [
    {
     "data": {
      "text/plain": [
       "0.995098371933023"
      ]
     },
     "execution_count": 151,
     "metadata": {},
     "output_type": "execute_result"
    }
   ],
   "source": [
    "testing2=knn_tuned.score(X_test, y_test)\n",
    "testing2"
   ]
  },
  {
   "cell_type": "markdown",
   "metadata": {
    "papermill": {
     "duration": 0.208622,
     "end_time": "2021-01-24T12:34:35.641537",
     "exception": false,
     "start_time": "2021-01-24T12:34:35.432915",
     "status": "completed"
    },
    "tags": []
   },
   "source": [
    "## <a id='24'> 22.SVR </a>"
   ]
  },
  {
   "cell_type": "code",
   "execution_count": 100,
   "metadata": {
    "execution": {
     "iopub.execute_input": "2021-01-24T12:34:36.065617Z",
     "iopub.status.busy": "2021-01-24T12:34:36.064687Z",
     "iopub.status.idle": "2021-01-24T12:34:36.067674Z",
     "shell.execute_reply": "2021-01-24T12:34:36.067088Z"
    },
    "papermill": {
     "duration": 0.217209,
     "end_time": "2021-01-24T12:34:36.067783",
     "exception": false,
     "start_time": "2021-01-24T12:34:35.850574",
     "status": "completed"
    },
    "tags": []
   },
   "outputs": [],
   "source": [
    "from sklearn.svm import SVR"
   ]
  },
  {
   "cell_type": "code",
   "execution_count": 102,
   "metadata": {
    "execution": {
     "iopub.execute_input": "2021-01-24T12:34:36.495025Z",
     "iopub.status.busy": "2021-01-24T12:34:36.493747Z",
     "iopub.status.idle": "2021-01-24T12:34:38.617694Z",
     "shell.execute_reply": "2021-01-24T12:34:38.617086Z"
    },
    "papermill": {
     "duration": 2.342131,
     "end_time": "2021-01-24T12:34:38.617809",
     "exception": false,
     "start_time": "2021-01-24T12:34:36.275678",
     "status": "completed"
    },
    "tags": []
   },
   "outputs": [],
   "source": [
    "svr_model = SVR(kernel=\"rbf\").fit(X_train, y_train)"
   ]
  },
  {
   "cell_type": "code",
   "execution_count": 103,
   "metadata": {
    "execution": {
     "iopub.execute_input": "2021-01-24T12:34:39.050143Z",
     "iopub.status.busy": "2021-01-24T12:34:39.049354Z",
     "iopub.status.idle": "2021-01-24T12:34:39.344579Z",
     "shell.execute_reply": "2021-01-24T12:34:39.343876Z"
    },
    "papermill": {
     "duration": 0.518565,
     "end_time": "2021-01-24T12:34:39.344692",
     "exception": false,
     "start_time": "2021-01-24T12:34:38.826127",
     "status": "completed"
    },
    "tags": []
   },
   "outputs": [],
   "source": [
    "y_pred = svr_model.predict(X_test)"
   ]
  },
  {
   "cell_type": "code",
   "execution_count": 104,
   "metadata": {
    "execution": {
     "iopub.execute_input": "2021-01-24T12:34:39.756622Z",
     "iopub.status.busy": "2021-01-24T12:34:39.755605Z",
     "iopub.status.idle": "2021-01-24T12:34:39.760826Z",
     "shell.execute_reply": "2021-01-24T12:34:39.760212Z"
    },
    "papermill": {
     "duration": 0.204217,
     "end_time": "2021-01-24T12:34:39.760936",
     "exception": false,
     "start_time": "2021-01-24T12:34:39.556719",
     "status": "completed"
    },
    "tags": []
   },
   "outputs": [
    {
     "data": {
      "text/plain": [
       "18.950020842635322"
      ]
     },
     "execution_count": 104,
     "metadata": {},
     "output_type": "execute_result"
    }
   ],
   "source": [
    "np.sqrt(mean_squared_error(y_test, y_pred))"
   ]
  },
  {
   "cell_type": "code",
   "execution_count": 105,
   "metadata": {
    "execution": {
     "iopub.execute_input": "2021-01-24T12:34:40.201927Z",
     "iopub.status.busy": "2021-01-24T12:34:40.200872Z",
     "iopub.status.idle": "2021-01-24T12:37:25.677045Z",
     "shell.execute_reply": "2021-01-24T12:37:25.677421Z"
    },
    "papermill": {
     "duration": 165.706354,
     "end_time": "2021-01-24T12:37:25.677538",
     "exception": false,
     "start_time": "2021-01-24T12:34:39.971184",
     "status": "completed"
    },
    "tags": []
   },
   "outputs": [
    {
     "data": {
      "text/plain": [
       "GridSearchCV(cv=10, estimator=SVR(),\n",
       "             param_grid={'C': [0.01, 0.1, 0.4, 5, 10, 20, 30, 40, 50]})"
      ]
     },
     "execution_count": 105,
     "metadata": {},
     "output_type": "execute_result"
    }
   ],
   "source": [
    "svr_params = {\"C\": [0.01, 0.1,0.4,5,10,20,30,40,50]}\n",
    "svr_cv_model = GridSearchCV(svr_model,svr_params, cv = 10)\n",
    "svr_cv_model.fit(X_train, y_train)"
   ]
  },
  {
   "cell_type": "code",
   "execution_count": 107,
   "metadata": {
    "execution": {
     "iopub.execute_input": "2021-01-24T12:37:26.189864Z",
     "iopub.status.busy": "2021-01-24T12:37:26.189027Z",
     "iopub.status.idle": "2021-01-24T12:37:26.194951Z",
     "shell.execute_reply": "2021-01-24T12:37:26.194345Z"
    },
    "papermill": {
     "duration": 0.276367,
     "end_time": "2021-01-24T12:37:26.195111",
     "exception": false,
     "start_time": "2021-01-24T12:37:25.918744",
     "status": "completed"
    },
    "tags": []
   },
   "outputs": [
    {
     "data": {
      "text/plain": [
       "50"
      ]
     },
     "execution_count": 107,
     "metadata": {},
     "output_type": "execute_result"
    }
   ],
   "source": [
    "pd.Series(svr_cv_model.best_params_)[0]"
   ]
  },
  {
   "cell_type": "code",
   "execution_count": 109,
   "metadata": {
    "execution": {
     "iopub.execute_input": "2021-01-24T12:37:26.628641Z",
     "iopub.status.busy": "2021-01-24T12:37:26.627768Z",
     "iopub.status.idle": "2021-01-24T12:37:28.770690Z",
     "shell.execute_reply": "2021-01-24T12:37:28.771251Z"
    },
    "papermill": {
     "duration": 2.362017,
     "end_time": "2021-01-24T12:37:28.771421",
     "exception": false,
     "start_time": "2021-01-24T12:37:26.409404",
     "status": "completed"
    },
    "tags": []
   },
   "outputs": [],
   "source": [
    "svr_tuned = SVR(kernel=\"rbf\", C = pd.Series(svr_cv_model.best_params_)[0]).fit(X_train, \n",
    "                                                                        y_train)"
   ]
  },
  {
   "cell_type": "code",
   "execution_count": 158,
   "metadata": {
    "execution": {
     "iopub.execute_input": "2021-01-24T12:37:29.234323Z",
     "iopub.status.busy": "2021-01-24T12:37:29.233541Z",
     "iopub.status.idle": "2021-01-24T12:37:29.547518Z",
     "shell.execute_reply": "2021-01-24T12:37:29.546688Z"
    },
    "papermill": {
     "duration": 0.563586,
     "end_time": "2021-01-24T12:37:29.547698",
     "exception": false,
     "start_time": "2021-01-24T12:37:28.984112",
     "status": "completed"
    },
    "tags": []
   },
   "outputs": [],
   "source": [
    "y_pred = svr_tuned.predict(X_test)"
   ]
  },
  {
   "cell_type": "code",
   "execution_count": 159,
   "metadata": {
    "execution": {
     "iopub.execute_input": "2021-01-24T12:37:30.004053Z",
     "iopub.status.busy": "2021-01-24T12:37:30.003152Z",
     "iopub.status.idle": "2021-01-24T12:37:30.009686Z",
     "shell.execute_reply": "2021-01-24T12:37:30.010187Z"
    },
    "papermill": {
     "duration": 0.244622,
     "end_time": "2021-01-24T12:37:30.010329",
     "exception": false,
     "start_time": "2021-01-24T12:37:29.765707",
     "status": "completed"
    },
    "tags": []
   },
   "outputs": [
    {
     "data": {
      "text/plain": [
       "4.104953120635717"
      ]
     },
     "execution_count": 159,
     "metadata": {},
     "output_type": "execute_result"
    }
   ],
   "source": [
    "rms3=np.sqrt(mean_squared_error(y_test, y_pred))\n",
    "rms3"
   ]
  },
  {
   "cell_type": "code",
   "execution_count": 156,
   "metadata": {},
   "outputs": [
    {
     "data": {
      "text/plain": [
       "0.9960762899591757"
      ]
     },
     "execution_count": 156,
     "metadata": {},
     "output_type": "execute_result"
    }
   ],
   "source": [
    "training3=svr_tuned.score(X_train, y_train)\n",
    "training3"
   ]
  },
  {
   "cell_type": "code",
   "execution_count": 114,
   "metadata": {},
   "outputs": [
    {
     "data": {
      "text/plain": [
       "0.9960762899591757"
      ]
     },
     "execution_count": 114,
     "metadata": {},
     "output_type": "execute_result"
    }
   ],
   "source": [
    "r2_score(y_train, svr_tuned.predict(X_train))"
   ]
  },
  {
   "cell_type": "code",
   "execution_count": 154,
   "metadata": {},
   "outputs": [
    {
     "data": {
      "text/plain": [
       "0.9954112760545344"
      ]
     },
     "execution_count": 154,
     "metadata": {},
     "output_type": "execute_result"
    }
   ],
   "source": [
    "testing3=svr_tuned.score(X_test, y_test)\n",
    "testing3"
   ]
  },
  {
   "cell_type": "code",
   "execution_count": 115,
   "metadata": {},
   "outputs": [
    {
     "data": {
      "text/plain": [
       "0.9954112760545344"
      ]
     },
     "execution_count": 115,
     "metadata": {},
     "output_type": "execute_result"
    }
   ],
   "source": [
    "r2_score(y_test, svr_tuned.predict(X_test))"
   ]
  },
  {
   "cell_type": "markdown",
   "metadata": {
    "papermill": {
     "duration": 0.155475,
     "end_time": "2021-01-24T12:37:31.408813",
     "exception": false,
     "start_time": "2021-01-24T12:37:31.253338",
     "status": "completed"
    },
    "tags": []
   },
   "source": [
    "## <a id='25'> 23.Random Forest </a>"
   ]
  },
  {
   "cell_type": "code",
   "execution_count": 116,
   "metadata": {
    "execution": {
     "iopub.execute_input": "2021-01-24T12:37:31.723808Z",
     "iopub.status.busy": "2021-01-24T12:37:31.723247Z",
     "iopub.status.idle": "2021-01-24T12:37:31.796892Z",
     "shell.execute_reply": "2021-01-24T12:37:31.797578Z"
    },
    "papermill": {
     "duration": 0.234342,
     "end_time": "2021-01-24T12:37:31.797733",
     "exception": false,
     "start_time": "2021-01-24T12:37:31.563391",
     "status": "completed"
    },
    "tags": []
   },
   "outputs": [],
   "source": [
    "from sklearn.ensemble import RandomForestRegressor"
   ]
  },
  {
   "cell_type": "code",
   "execution_count": 117,
   "metadata": {
    "execution": {
     "iopub.execute_input": "2021-01-24T12:37:32.238669Z",
     "iopub.status.busy": "2021-01-24T12:37:32.236844Z",
     "iopub.status.idle": "2021-01-24T12:37:32.242395Z",
     "shell.execute_reply": "2021-01-24T12:37:32.241633Z"
    },
    "papermill": {
     "duration": 0.227005,
     "end_time": "2021-01-24T12:37:32.242513",
     "exception": false,
     "start_time": "2021-01-24T12:37:32.015508",
     "status": "completed"
    },
    "tags": []
   },
   "outputs": [],
   "source": [
    "rf_model = RandomForestRegressor(random_state = 42)"
   ]
  },
  {
   "cell_type": "code",
   "execution_count": 118,
   "metadata": {
    "execution": {
     "iopub.execute_input": "2021-01-24T12:37:32.655549Z",
     "iopub.status.busy": "2021-01-24T12:37:32.644866Z",
     "iopub.status.idle": "2021-01-24T12:37:33.256694Z",
     "shell.execute_reply": "2021-01-24T12:37:33.256081Z"
    },
    "papermill": {
     "duration": 0.798981,
     "end_time": "2021-01-24T12:37:33.256809",
     "exception": false,
     "start_time": "2021-01-24T12:37:32.457828",
     "status": "completed"
    },
    "tags": []
   },
   "outputs": [
    {
     "data": {
      "text/plain": [
       "RandomForestRegressor(random_state=42)"
      ]
     },
     "execution_count": 118,
     "metadata": {},
     "output_type": "execute_result"
    }
   ],
   "source": [
    "rf_model.fit(X_train, y_train)"
   ]
  },
  {
   "cell_type": "code",
   "execution_count": 119,
   "metadata": {
    "execution": {
     "iopub.execute_input": "2021-01-24T12:37:33.702242Z",
     "iopub.status.busy": "2021-01-24T12:37:33.701576Z",
     "iopub.status.idle": "2021-01-24T12:37:33.736913Z",
     "shell.execute_reply": "2021-01-24T12:37:33.736226Z"
    },
    "papermill": {
     "duration": 0.261164,
     "end_time": "2021-01-24T12:37:33.737055",
     "exception": false,
     "start_time": "2021-01-24T12:37:33.475891",
     "status": "completed"
    },
    "tags": []
   },
   "outputs": [],
   "source": [
    "y_pred = rf_model.predict(X_test)"
   ]
  },
  {
   "cell_type": "code",
   "execution_count": 120,
   "metadata": {
    "execution": {
     "iopub.execute_input": "2021-01-24T12:37:34.177870Z",
     "iopub.status.busy": "2021-01-24T12:37:34.176806Z",
     "iopub.status.idle": "2021-01-24T12:37:34.184237Z",
     "shell.execute_reply": "2021-01-24T12:37:34.183560Z"
    },
    "papermill": {
     "duration": 0.229835,
     "end_time": "2021-01-24T12:37:34.184367",
     "exception": false,
     "start_time": "2021-01-24T12:37:33.954532",
     "status": "completed"
    },
    "tags": []
   },
   "outputs": [
    {
     "data": {
      "text/plain": [
       "4.2077128968942725"
      ]
     },
     "execution_count": 120,
     "metadata": {},
     "output_type": "execute_result"
    }
   ],
   "source": [
    "np.sqrt(mean_squared_error(y_test, y_pred))"
   ]
  },
  {
   "cell_type": "code",
   "execution_count": 121,
   "metadata": {
    "execution": {
     "iopub.execute_input": "2021-01-24T12:37:34.621332Z",
     "iopub.status.busy": "2021-01-24T12:37:34.620625Z",
     "iopub.status.idle": "2021-01-24T12:37:34.625536Z",
     "shell.execute_reply": "2021-01-24T12:37:34.624885Z"
    },
    "papermill": {
     "duration": 0.225447,
     "end_time": "2021-01-24T12:37:34.625642",
     "exception": false,
     "start_time": "2021-01-24T12:37:34.400195",
     "status": "completed"
    },
    "tags": []
   },
   "outputs": [],
   "source": [
    "rf_params = {'max_depth': list(range(1,10)),\n",
    "            'max_features': [3,5,10,15],\n",
    "            'n_estimators' : [100, 200, 500, 750]}"
   ]
  },
  {
   "cell_type": "code",
   "execution_count": 138,
   "metadata": {
    "execution": {
     "iopub.execute_input": "2021-01-24T12:37:35.063262Z",
     "iopub.status.busy": "2021-01-24T12:37:35.062618Z",
     "iopub.status.idle": "2021-01-24T12:37:35.065718Z",
     "shell.execute_reply": "2021-01-24T12:37:35.066426Z"
    },
    "papermill": {
     "duration": 0.224307,
     "end_time": "2021-01-24T12:37:35.066590",
     "exception": false,
     "start_time": "2021-01-24T12:37:34.842283",
     "status": "completed"
    },
    "tags": []
   },
   "outputs": [],
   "source": [
    "rf_model = RandomForestRegressor(random_state = 42)"
   ]
  },
  {
   "cell_type": "code",
   "execution_count": 122,
   "metadata": {
    "execution": {
     "iopub.execute_input": "2021-01-24T12:37:35.662816Z",
     "iopub.status.busy": "2021-01-24T12:37:35.661867Z",
     "iopub.status.idle": "2021-01-24T12:37:35.665757Z",
     "shell.execute_reply": "2021-01-24T12:37:35.665023Z"
    },
    "papermill": {
     "duration": 0.31454,
     "end_time": "2021-01-24T12:37:35.665891",
     "exception": false,
     "start_time": "2021-01-24T12:37:35.351351",
     "status": "completed"
    },
    "tags": []
   },
   "outputs": [],
   "source": [
    "rf_cv_model = GridSearchCV(rf_model, \n",
    "                           rf_params, \n",
    "                           cv = 10, \n",
    "                            n_jobs = -1,\n",
    "                          verbose = 2)"
   ]
  },
  {
   "cell_type": "code",
   "execution_count": 123,
   "metadata": {
    "execution": {
     "iopub.execute_input": "2021-01-24T12:37:36.282460Z",
     "iopub.status.busy": "2021-01-24T12:37:36.281760Z",
     "iopub.status.idle": "2021-01-24T12:44:10.031811Z",
     "shell.execute_reply": "2021-01-24T12:44:10.031158Z"
    },
    "papermill": {
     "duration": 394.059087,
     "end_time": "2021-01-24T12:44:10.031928",
     "exception": false,
     "start_time": "2021-01-24T12:37:35.972841",
     "status": "completed"
    },
    "tags": []
   },
   "outputs": [
    {
     "name": "stdout",
     "output_type": "stream",
     "text": [
      "Fitting 10 folds for each of 144 candidates, totalling 1440 fits\n"
     ]
    },
    {
     "data": {
      "text/plain": [
       "GridSearchCV(cv=10, estimator=RandomForestRegressor(random_state=42), n_jobs=-1,\n",
       "             param_grid={'max_depth': [1, 2, 3, 4, 5, 6, 7, 8, 9],\n",
       "                         'max_features': [3, 5, 10, 15],\n",
       "                         'n_estimators': [100, 200, 500, 750]},\n",
       "             verbose=2)"
      ]
     },
     "execution_count": 123,
     "metadata": {},
     "output_type": "execute_result"
    }
   ],
   "source": [
    "rf_cv_model.fit(X_train, y_train)"
   ]
  },
  {
   "cell_type": "code",
   "execution_count": 124,
   "metadata": {
    "execution": {
     "iopub.execute_input": "2021-01-24T12:44:10.481994Z",
     "iopub.status.busy": "2021-01-24T12:44:10.481323Z",
     "iopub.status.idle": "2021-01-24T12:44:10.488009Z",
     "shell.execute_reply": "2021-01-24T12:44:10.488646Z"
    },
    "papermill": {
     "duration": 0.235073,
     "end_time": "2021-01-24T12:44:10.488795",
     "exception": false,
     "start_time": "2021-01-24T12:44:10.253722",
     "status": "completed"
    },
    "tags": []
   },
   "outputs": [
    {
     "data": {
      "text/plain": [
       "{'max_depth': 9, 'max_features': 5, 'n_estimators': 500}"
      ]
     },
     "execution_count": 124,
     "metadata": {},
     "output_type": "execute_result"
    }
   ],
   "source": [
    "rf_cv_model.best_params_"
   ]
  },
  {
   "cell_type": "code",
   "execution_count": 125,
   "metadata": {
    "execution": {
     "iopub.execute_input": "2021-01-24T12:44:10.939296Z",
     "iopub.status.busy": "2021-01-24T12:44:10.938486Z",
     "iopub.status.idle": "2021-01-24T12:44:10.942611Z",
     "shell.execute_reply": "2021-01-24T12:44:10.942174Z"
    },
    "papermill": {
     "duration": 0.232617,
     "end_time": "2021-01-24T12:44:10.942701",
     "exception": false,
     "start_time": "2021-01-24T12:44:10.710084",
     "status": "completed"
    },
    "tags": []
   },
   "outputs": [],
   "source": [
    "rf_tuned = RandomForestRegressor(max_depth  = 9, \n",
    "                                 max_features = 5, \n",
    "                                 n_estimators =750)"
   ]
  },
  {
   "cell_type": "code",
   "execution_count": 126,
   "metadata": {
    "execution": {
     "iopub.execute_input": "2021-01-24T12:44:11.325795Z",
     "iopub.status.busy": "2021-01-24T12:44:11.325132Z",
     "iopub.status.idle": "2021-01-24T12:44:14.915655Z",
     "shell.execute_reply": "2021-01-24T12:44:14.916314Z"
    },
    "papermill": {
     "duration": 3.815404,
     "end_time": "2021-01-24T12:44:14.916471",
     "exception": false,
     "start_time": "2021-01-24T12:44:11.101067",
     "status": "completed"
    },
    "tags": []
   },
   "outputs": [
    {
     "data": {
      "text/plain": [
       "RandomForestRegressor(max_depth=9, max_features=5, n_estimators=750)"
      ]
     },
     "execution_count": 126,
     "metadata": {},
     "output_type": "execute_result"
    }
   ],
   "source": [
    "rf_tuned.fit(X_train, y_train)"
   ]
  },
  {
   "cell_type": "code",
   "execution_count": 162,
   "metadata": {
    "execution": {
     "iopub.execute_input": "2021-01-24T12:44:15.364001Z",
     "iopub.status.busy": "2021-01-24T12:44:15.362724Z",
     "iopub.status.idle": "2021-01-24T12:44:15.601629Z",
     "shell.execute_reply": "2021-01-24T12:44:15.600552Z"
    },
    "papermill": {
     "duration": 0.461015,
     "end_time": "2021-01-24T12:44:15.601780",
     "exception": false,
     "start_time": "2021-01-24T12:44:15.140765",
     "status": "completed"
    },
    "tags": []
   },
   "outputs": [],
   "source": [
    "y_pred = rf_tuned.predict(X_test)"
   ]
  },
  {
   "cell_type": "code",
   "execution_count": 164,
   "metadata": {
    "execution": {
     "iopub.execute_input": "2021-01-24T12:44:16.192381Z",
     "iopub.status.busy": "2021-01-24T12:44:16.191226Z",
     "iopub.status.idle": "2021-01-24T12:44:16.198212Z",
     "shell.execute_reply": "2021-01-24T12:44:16.198944Z"
    },
    "papermill": {
     "duration": 0.315655,
     "end_time": "2021-01-24T12:44:16.199137",
     "exception": false,
     "start_time": "2021-01-24T12:44:15.883482",
     "status": "completed"
    },
    "tags": []
   },
   "outputs": [
    {
     "data": {
      "text/plain": [
       "4.104735921174743"
      ]
     },
     "execution_count": 164,
     "metadata": {},
     "output_type": "execute_result"
    }
   ],
   "source": [
    "rms4=np.sqrt(mean_squared_error(y_test, y_pred))\n",
    "rms4"
   ]
  },
  {
   "cell_type": "code",
   "execution_count": 129,
   "metadata": {
    "execution": {
     "iopub.execute_input": "2021-01-24T12:44:16.836622Z",
     "iopub.status.busy": "2021-01-24T12:44:16.835498Z",
     "iopub.status.idle": "2021-01-24T12:44:16.917937Z",
     "shell.execute_reply": "2021-01-24T12:44:16.918634Z"
    },
    "papermill": {
     "duration": 0.404323,
     "end_time": "2021-01-24T12:44:16.918819",
     "exception": false,
     "start_time": "2021-01-24T12:44:16.514496",
     "status": "completed"
    },
    "tags": []
   },
   "outputs": [],
   "source": [
    "Importance = pd.DataFrame({\"Importance\": rf_tuned.feature_importances_*100},\n",
    "                         index = X_train.columns)"
   ]
  },
  {
   "cell_type": "code",
   "execution_count": 130,
   "metadata": {
    "execution": {
     "iopub.execute_input": "2021-01-24T12:44:17.564098Z",
     "iopub.status.busy": "2021-01-24T12:44:17.562794Z",
     "iopub.status.idle": "2021-01-24T12:44:17.902675Z",
     "shell.execute_reply": "2021-01-24T12:44:17.901944Z"
    },
    "papermill": {
     "duration": 0.666223,
     "end_time": "2021-01-24T12:44:17.902796",
     "exception": false,
     "start_time": "2021-01-24T12:44:17.236573",
     "status": "completed"
    },
    "tags": []
   },
   "outputs": [
    {
     "data": {
      "text/plain": [
       "Text(0.5, 0, 'Variable Significance Levels')"
      ]
     },
     "execution_count": 130,
     "metadata": {},
     "output_type": "execute_result"
    },
    {
     "data": {
      "image/png": "[encoded data removed]",
      "text/plain": [
       "<Figure size 800x600 with 1 Axes>"
      ]
     },
     "metadata": {},
     "output_type": "display_data"
    }
   ],
   "source": [
    "Importance.sort_values(by = \"Importance\", \n",
    "                       axis = 0, \n",
    "                       ascending = True).plot(kind =\"barh\", color = \"r\")\n",
    "\n",
    "plt.xlabel(\"Variable Significance Levels\")"
   ]
  },
  {
   "cell_type": "code",
   "execution_count": 160,
   "metadata": {
    "execution": {
     "iopub.execute_input": "2021-01-24T12:44:18.366207Z",
     "iopub.status.busy": "2021-01-24T12:44:18.365317Z",
     "iopub.status.idle": "2021-01-24T12:44:18.448931Z",
     "shell.execute_reply": "2021-01-24T12:44:18.448206Z"
    },
    "papermill": {
     "duration": 0.320088,
     "end_time": "2021-01-24T12:44:18.449050",
     "exception": false,
     "start_time": "2021-01-24T12:44:18.128962",
     "status": "completed"
    },
    "tags": []
   },
   "outputs": [
    {
     "data": {
      "text/plain": [
       "0.9976513736221639"
      ]
     },
     "execution_count": 160,
     "metadata": {},
     "output_type": "execute_result"
    }
   ],
   "source": [
    "training4=rf_tuned.score(X_train, y_train)\n",
    "training4"
   ]
  },
  {
   "cell_type": "code",
   "execution_count": 161,
   "metadata": {},
   "outputs": [
    {
     "data": {
      "text/plain": [
       "0.9954117616347448"
      ]
     },
     "execution_count": 161,
     "metadata": {},
     "output_type": "execute_result"
    }
   ],
   "source": [
    "testing4=rf_tuned.score(X_test, y_test)\n",
    "testing4"
   ]
  },
  {
   "cell_type": "markdown",
   "metadata": {
    "papermill": {
     "duration": 0.322051,
     "end_time": "2021-01-24T12:44:19.546182",
     "exception": false,
     "start_time": "2021-01-24T12:44:19.224131",
     "status": "completed"
    },
    "tags": []
   },
   "source": [
    "## <a id='26'>24.Model Comparison  </a>"
   ]
  },
  {
   "cell_type": "code",
   "execution_count": 179,
   "metadata": {},
   "outputs": [
    {
     "data": {
      "text/html": [
       "<div>\n",
       "<style scoped>\n",
       "    .dataframe tbody tr th:only-of-type {\n",
       "        vertical-align: middle;\n",
       "    }\n",
       "\n",
       "    .dataframe tbody tr th {\n",
       "        vertical-align: top;\n",
       "    }\n",
       "\n",
       "    .dataframe thead th {\n",
       "        text-align: right;\n",
       "    }\n",
       "</style>\n",
       "<table border=\"1\" class=\"dataframe\">\n",
       "  <thead>\n",
       "    <tr style=\"text-align: right;\">\n",
       "      <th></th>\n",
       "      <th>Training Score</th>\n",
       "      <th>Testing Score</th>\n",
       "      <th>RMS Error</th>\n",
       "    </tr>\n",
       "    <tr>\n",
       "      <th>Model</th>\n",
       "      <th></th>\n",
       "      <th></th>\n",
       "      <th></th>\n",
       "    </tr>\n",
       "  </thead>\n",
       "  <tbody>\n",
       "    <tr>\n",
       "      <th>Linear Regression</th>\n",
       "      <td>0.990725</td>\n",
       "      <td>0.989192</td>\n",
       "      <td>6.299932</td>\n",
       "    </tr>\n",
       "    <tr>\n",
       "      <th>KNN</th>\n",
       "      <td>0.997089</td>\n",
       "      <td>0.995098</td>\n",
       "      <td>4.242603</td>\n",
       "    </tr>\n",
       "    <tr>\n",
       "      <th>SVR</th>\n",
       "      <td>0.996076</td>\n",
       "      <td>0.995411</td>\n",
       "      <td>4.104953</td>\n",
       "    </tr>\n",
       "    <tr>\n",
       "      <th>Random Forest</th>\n",
       "      <td>0.997651</td>\n",
       "      <td>0.995412</td>\n",
       "      <td>4.104736</td>\n",
       "    </tr>\n",
       "  </tbody>\n",
       "</table>\n",
       "</div>"
      ],
      "text/plain": [
       "                   Training Score  Testing Score  RMS Error\n",
       "Model                                                      \n",
       "Linear Regression        0.990725       0.989192   6.299932\n",
       "KNN                      0.997089       0.995098   4.242603\n",
       "SVR                      0.996076       0.995411   4.104953\n",
       "Random Forest            0.997651       0.995412   4.104736"
      ]
     },
     "execution_count": 179,
     "metadata": {},
     "output_type": "execute_result"
    }
   ],
   "source": [
    "data = {\n",
    "    \"Model\": [\"Linear Regression\", \"KNN\", \"SVR\",\"Random Forest\"],\n",
    "    \"Training Score\": [training1,training2,training3,training4],\n",
    "    \"Testing Score\": [testing1,testing2,testing3,testing4],\n",
    "    \"RMS Error\": [rms1,rms2,rms3,rms4]\n",
    "}\n",
    "\n",
    "# Creating a DataFrame from the dictionary\n",
    "results_df = pd.DataFrame(data)\n",
    "\n",
    "# Displaying the DataFrame\n",
    "results_df.set_index(\"Model\", inplace=True)\n",
    "results_df\n",
    "# print(results_df)"
   ]
  },
  {
   "cell_type": "code",
   "execution_count": null,
   "metadata": {},
   "outputs": [],
   "source": []
  }
 ],
 "metadata": {
  "kernelspec": {
   "display_name": "Python 3 (ipykernel)",
   "language": "python",
   "name": "python3"
  },
  "language_info": {
   "codemirror_mode": {
    "name": "ipython",
    "version": 3
   },
   "file_extension": ".py",
   "mimetype": "text/x-python",
   "name": "python",
   "nbconvert_exporter": "python",
   "pygments_lexer": "ipython3",
   "version": "3.9.13"
  },
  "papermill": {
   "duration": 669.329893,
   "end_time": "2021-01-24T12:44:23.511402",
   "environment_variables": {},
   "exception": null,
   "input_path": "__notebook__.ipynb",
   "output_path": "__notebook__.ipynb",
   "parameters": {},
   "start_time": "2021-01-24T12:33:14.181509",
   "version": "2.1.0"
  }
 },
 "nbformat": 4,
 "nbformat_minor": 4
}
